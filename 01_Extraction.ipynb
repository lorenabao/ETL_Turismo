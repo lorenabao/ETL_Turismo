{
 "cells": [
  {
   "cell_type": "code",
   "execution_count": 62,
   "id": "474a2cd8-939d-4de9-9ee0-a58816fb6ffa",
   "metadata": {},
   "outputs": [],
   "source": [
    "import requests\n",
    "import pandas as pd\n",
    "from io import BytesIO\n",
    "import os\n",
    "from io import StringIO"
   ]
  },
  {
   "cell_type": "code",
   "execution_count": null,
   "id": "8e21c215-804e-4c1c-a1c9-f18cf98baf75",
   "metadata": {},
   "outputs": [],
   "source": [
    "# https://www.dataestur.es/en/apidata/"
   ]
  },
  {
   "cell_type": "code",
   "execution_count": 92,
   "id": "b487842e-19f6-49a5-a207-3216ffebdf02",
   "metadata": {},
   "outputs": [],
   "source": [
    "# Añadimos las urls de las que necesitamos descargar archivos. Key = Name; Value = URL\n",
    "\n",
    "downloads = {\n",
    "    \"FRONTUR_DL\": \"https://dataestur.azure-api.net/API-SEGITTUR-v1/FRONTUR_DL?desde%20%28a%C3%B1o%29=2018&Pa%C3%ADs%20de%20residencia=Todos&Tipo%20de%20visitante=Todos&CCAA%20de%20destino=Todos\",\n",
    "    \"EGATUR_DL\": \"https://dataestur.azure-api.net/API-SEGITTUR-v1/EGATUR_DL?desde%20%28a%C3%B1o%29=2018&Pa%C3%ADs%20de%20residencia=Todos&CCAA%20de%20destino=Todos\",\n",
    "    \"ACTIVIDADES_OCIO_DL\": \"https://dataestur.azure-api.net/API-SEGITTUR-v1/ACTIVIDADES_OCIO_DL?CCAA=Todos&Provincia=Todos\",\n",
    "    \"TRANSPORTE_TERRESTRE_DL\": \"https://dataestur.azure-api.net/API-SEGITTUR-v1/TRANSPORTE_TERRESTRE_DL?desde%20%28a%C3%B1o%29=2018&Tipo%20transporte=Todos\",\n",
    "    \"CONECTIVIDAD_AEREA_BUSQUEDAS_INICIO_VIAJE_DL\": \"https://dataestur.azure-api.net/API-SEGITTUR-v1/CONECTIVIDAD_AEREA_BUSQUEDAS_INICIO_VIAJE_DL?Pa%C3%ADs%20origen=Todos&Ciudad%20destino=Todos&Tipo%20origen=Todos\",\n",
    "    \"ESCUCHA_ACTIVA_DL\": \"https://dataestur.azure-api.net/API-SEGITTUR-v1/ESCUCHA_ACTIVA_DL?Idioma=Todos&Medio=Todos&Sentimiento=Todos\",\n",
    "    \"CST_GASTO_CONSUMO_TURISTICO_DL\": \"https://dataestur.azure-api.net/API-SEGITTUR-v1/CST_GASTO_CONSUMO_TURISTICO_DL?Producto=Todos\",\n",
    "    \"EOAC_CATEGORIA_DL\": \"https://dataestur.azure-api.net/API-SEGITTUR-v1/EOAC_CATEGORIA_DL?desde%20%28a%C3%B1o%29=2018&Categor%C3%ADa=Todos&Lugar%20de%20residencia=Todos\",\n",
    "    \"EOAL_PAIS_DL\": \"https://dataestur.azure-api.net/API-SEGITTUR-v1/EOAL_PAIS_DL?Pa%C3%ADs=Todos&Lugar%20de%20residencia=Todos\",\n",
    "    \"EOTR_PAIS_DL\": \"https://dataestur.azure-api.net/API-SEGITTUR-v1/EOTR_PAIS_DL?desde%20%28a%C3%B1o%29=2018&Pa%C3%ADs=Todos&Lugar%20de%20residencia=Todos\"\n",
    "}"
   ]
  },
  {
   "cell_type": "code",
   "execution_count": 95,
   "id": "4e802ea6-ba2c-469d-aeb0-87d56fb515f7",
   "metadata": {},
   "outputs": [],
   "source": [
    "# Creamos una función para descargar un diccionario de URLS. Para ello tenemos que pasarle la url y un nombre de archivo.\n",
    "# La descarga devuelve un tipo binario, así que usamos BytesIO y lo convertimos en Dataframe con Pandas.\n",
    "\n",
    "def download_file(url, file_name, folder=\"./data\"):\n",
    "    file_path = os.path.join(folder, f\"{file_name}.xlsx\")\n",
    "\n",
    "    if os.path.exists(file_path):\n",
    "        print(f\"- {file_name}.xlsx already exists.\")\n",
    "        return pd.read_excel(file_path)\n",
    "\n",
    "    response = requests.get(url)\n",
    "    \n",
    "    if response.status_code == 200:\n",
    "        file_type = response.headers[\"Content-Disposition\"].split(\".\")[-1]\n",
    "\n",
    "        if file_type == \"xlsx\":\n",
    "            df = pd.read_excel(BytesIO(response.content))\n",
    "            df.to_excel(file_path)\n",
    "            print(f\"{file_name}.xlsx downloaded and saved.\")\n",
    "            return df\n",
    "        elif file_type == \"csv\":\n",
    "            encoding = response.apparent_encoding\n",
    "            df = pd.read_csv(StringIO(response.content.decode(encoding)), sep=';', engine='python')\n",
    "            df.to_excel(file_path)\n",
    "            print(f\"{file_name}.csv downloaded and saved.\")\n",
    "            return df\n",
    "    else:\n",
    "        print(f\"Failed to download {file_name}: {response.status_code}\")\n",
    "        return None"
   ]
  },
  {
   "cell_type": "code",
   "execution_count": 96,
   "id": "8df69d2b-82a4-45f3-8630-9031905621d5",
   "metadata": {},
   "outputs": [
    {
     "name": "stdout",
     "output_type": "stream",
     "text": [
      "- FRONTUR_DL.xlsx already exists.\n",
      "- EGATUR_DL.xlsx already exists.\n",
      "- ACTIVIDADES_OCIO_DL.xlsx already exists.\n",
      "- TRANSPORTE_TERRESTRE_DL.xlsx already exists.\n",
      "- CONECTIVIDAD_AEREA_BUSQUEDAS_INICIO_VIAJE_DL.xlsx already exists.\n",
      "- ESCUCHA_ACTIVA_DL.xlsx already exists.\n",
      "- CST_GASTO_CONSUMO_TURISTICO_DL.xlsx already exists.\n",
      "- EOAC_CATEGORIA_DL.xlsx already exists.\n",
      "- EOAL_PAIS_DL.xlsx already exists.\n",
      "- EOTR_PAIS_DL.xlsx already exists.\n"
     ]
    }
   ],
   "source": [
    "# Guardamos todos los dataframes. Llamamos nuestra función para crear un nuevo diccionario de dataframes.\n",
    "\n",
    "datasets = {}\n",
    "\n",
    "for name, url in downloads.items():\n",
    "    df = download_file(url, name)\n",
    "    if df is not None:\n",
    "        datasets[name] = df"
   ]
  },
  {
   "cell_type": "code",
   "execution_count": 84,
   "id": "5ac71938-0b9c-4adb-afba-7fd4465dc0c5",
   "metadata": {},
   "outputs": [
    {
     "name": "stdout",
     "output_type": "stream",
     "text": [
      "\n",
      " FRONTUR_DL\n",
      "Columns: ['AÑO', 'MES', 'PAIS_RESIDENCIA', 'TIPO_VISITANTE', 'CCAA_DESTINO', 'VISITANTES']\n",
      "\n",
      " EGATUR_DL\n",
      "Columns: ['AÑO', 'MES', 'PAIS_RESIDENCIA', 'TIPO_VISITANTE', 'CCAA_DESTINO', 'PERNOCTACIONES', 'GASTO_TOTAL']\n",
      "\n",
      " ACTIVIDADES_OCIO_DL\n",
      "Columns: ['AÑO', 'MES', 'PRODUCTO', 'CATEGORIA', 'CCAA', 'PROVINCIA', 'ENTRADAS', 'VISITAS_PAGINAS', 'GASTO_TOTAL', 'PRECIO_MEDIO_ENTRADA', 'TRANSACCIONES']\n",
      "\n",
      " TRANSPORTE_TERRESTRE_DL\n",
      "Columns: ['AÑO', 'MES', 'TIPO_TRANSPORTE', 'VIAJEROS']\n",
      "\n",
      " CONECTIVIDAD_AEREA_BUSQUEDAS_INICIO_VIAJE_DL\n",
      "Columns: ['Unnamed: 0', 'AÑO', 'MES', 'PAIS_ORIGEN', 'CIUDAD_DESTINO', 'TIPO_ORIGEN', 'BUSQUEDAS', 'ANTELACION', 'ESTANCIA_MEDIA', 'VARIACION_INTERANUAL_BUSQUEDAS']\n",
      "\n",
      " ESCUCHA_ACTIVA_DL\n",
      "Columns: ['Unnamed: 0', 'AÑO', 'MES', 'MENCIONES']\n",
      "\n",
      " CST_GASTO_CONSUMO_TURISTICO_DL\n",
      "Columns: ['Unnamed: 0', 'AÑO', 'PRODUCTO', 'NUM_GASTO_INTERIOR', 'NUM_GASTO_INTERNO', 'NUM_GASTO_EMISOR', 'NUM_CONSUMO_TURISTICO_INTERIOR', 'NUM_CONSUMO_OTROS_COMPONENTES_TURISTICOS', 'NUM_GASTO_RECEPTOR']\n"
     ]
    }
   ],
   "source": [
    "#Para visualizar datos en conjunto:\n",
    "\n",
    "for name, df in datasets.items():\n",
    "    print(f\"\\n {name}\")\n",
    "    print(\"Columns:\", df.columns.tolist())"
   ]
  },
  {
   "cell_type": "code",
   "execution_count": null,
   "id": "cf450279-fc2d-403d-ac0c-4a861bbdedff",
   "metadata": {},
   "outputs": [],
   "source": []
  },
  {
   "cell_type": "code",
   "execution_count": null,
   "id": "6418b62c-5d5a-4c14-80c2-a5f7e60323da",
   "metadata": {},
   "outputs": [],
   "source": []
  }
 ],
 "metadata": {
  "kernelspec": {
   "display_name": "Python 3 (ipykernel)",
   "language": "python",
   "name": "python3"
  },
  "language_info": {
   "codemirror_mode": {
    "name": "ipython",
    "version": 3
   },
   "file_extension": ".py",
   "mimetype": "text/x-python",
   "name": "python",
   "nbconvert_exporter": "python",
   "pygments_lexer": "ipython3",
   "version": "3.13.5"
  }
 },
 "nbformat": 4,
 "nbformat_minor": 5
}
