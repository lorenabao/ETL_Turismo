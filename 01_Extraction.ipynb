{
 "cells": [
  {
   "cell_type": "code",
   "execution_count": 8,
   "id": "474a2cd8-939d-4de9-9ee0-a58816fb6ffa",
   "metadata": {},
   "outputs": [],
   "source": [
    "import requests\n",
    "import pandas as pd\n",
    "from io import BytesIO\n",
    "import os"
   ]
  },
  {
   "cell_type": "code",
   "execution_count": null,
   "id": "8e21c215-804e-4c1c-a1c9-f18cf98baf75",
   "metadata": {},
   "outputs": [],
   "source": [
    "# https://www.dataestur.es/en/apidata/"
   ]
  },
  {
   "cell_type": "code",
   "execution_count": 1,
   "id": "b487842e-19f6-49a5-a207-3216ffebdf02",
   "metadata": {},
   "outputs": [],
   "source": [
    "# Añadimos las urls de las que necesitamos descargar archivos. Key = Name; Value = URL\n",
    "\n",
    "downloads = {\n",
    "    \"FRONTUR_DL\": \"https://dataestur.azure-api.net/API-SEGITTUR-v1/FRONTUR_DL?desde%20%28a%C3%B1o%29=2018&Pa%C3%ADs%20de%20residencia=Todos&Tipo%20de%20visitante=Todos&CCAA%20de%20destino=Todos\",\n",
    "    \"EGATUR_DL\": \"https://dataestur.azure-api.net/API-SEGITTUR-v1/EGATUR_DL?desde%20%28a%C3%B1o%29=2018&Pa%C3%ADs%20de%20residencia=Todos&CCAA%20de%20destino=Todos\"\n",
    "}"
   ]
  },
  {
   "cell_type": "code",
   "execution_count": 9,
   "id": "4e802ea6-ba2c-469d-aeb0-87d56fb515f7",
   "metadata": {},
   "outputs": [],
   "source": [
    "# Creamos una función para descargar un diccionario de URLS. Para ello tenemos que pasarle la url y un nombre de archivo.\n",
    "# La descarga devuelve un tipo binario, así que usamos BytesIO y lo convertimos en Dataframe con Pandas.\n",
    "\n",
    "def download_excel(url, file_name, folder=\"./data\"):\n",
    "    file_path = os.path.join(folder, f\"{file_name}.xlsx\")\n",
    "\n",
    "    if os.path.exists(file_path):\n",
    "        print(f\"⏭️  {file_name}.xlsx already exists.\")\n",
    "        return pd.read_excel(file_path)\n",
    "\n",
    "    response = requests.get(url)\n",
    "    \n",
    "    if response.status_code == 200:\n",
    "        df = pd.read_excel(BytesIO(response.content))\n",
    "        df.to_excel(file_path, index=False)\n",
    "        print(f\"{file_name}.xlsx downloaded and saved.\")\n",
    "        return df\n",
    "    else:\n",
    "        print(f\"Failed to download {file_name}: {response.status_code}\")\n",
    "        return None"
   ]
  },
  {
   "cell_type": "code",
   "execution_count": 10,
   "id": "8df69d2b-82a4-45f3-8630-9031905621d5",
   "metadata": {},
   "outputs": [
    {
     "name": "stdout",
     "output_type": "stream",
     "text": [
      "⏭️  FRONTUR_DL.xlsx already exists. Skipping download.\n",
      "⏭️  EGATUR_DL.xlsx already exists. Skipping download.\n"
     ]
    }
   ],
   "source": [
    "# Guardamos todos los dataframes. Llamamos nuestra función para crear un nuevo diccionario de dataframes.\n",
    "\n",
    "datasets = {}\n",
    "\n",
    "for name, url in downloads.items():\n",
    "    df = download_excel(url, name)\n",
    "    if df is not None:\n",
    "        datasets[name] = df"
   ]
  },
  {
   "cell_type": "code",
   "execution_count": 42,
   "id": "5ac71938-0b9c-4adb-afba-7fd4465dc0c5",
   "metadata": {},
   "outputs": [
    {
     "name": "stdout",
     "output_type": "stream",
     "text": [
      "\n",
      " FRONTUR_DL\n",
      "Columns: ['AÑO', 'MES', 'PAIS_RESIDENCIA', 'TIPO_VISITANTE', 'CCAA_DESTINO', 'VISITANTES']\n",
      "First 3 rows:\n",
      "     AÑO  MES PAIS_RESIDENCIA TIPO_VISITANTE CCAA_DESTINO  VISITANTES\n",
      "0  2018    1        Alemania  Excursionista    Andalucía         818\n",
      "1  2018    1        Alemania  Excursionista    Baleares         3694\n",
      "2  2018    1        Alemania  Excursionista    Canarias        13587\n",
      "\n",
      " EGATUR_DL\n",
      "Columns: ['AÑO', 'MES', 'PAIS_RESIDENCIA', 'TIPO_VISITANTE', 'CCAA_DESTINO', 'PERNOCTACIONES', 'GASTO_TOTAL']\n",
      "First 3 rows:\n",
      "     AÑO  MES PAIS_RESIDENCIA                            TIPO_VISITANTE  \\\n",
      "0  2018    1        Alemania  Excursionista no residente (no tránsito)   \n",
      "1  2018    1        Alemania  Excursionista no residente (no tránsito)   \n",
      "2  2018    1        Alemania  Excursionista no residente (no tránsito)   \n",
      "\n",
      "  CCAA_DESTINO  PERNOCTACIONES  GASTO_TOTAL  \n",
      "0    Andalucía               0    306434.84  \n",
      "1     Canarias               0  14063908.66  \n",
      "2     Cataluña               0    549930.72  \n"
     ]
    }
   ],
   "source": [
    "#Para visualizar datos en conjunto:\n",
    "\n",
    "for name, df in datasets.items():\n",
    "    print(f\"\\n {name}\")\n",
    "    print(\"Columns:\", df.columns.tolist())\n",
    "    print(\"First 3 rows:\\n\", df.head(3))"
   ]
  },
  {
   "cell_type": "code",
   "execution_count": 48,
   "id": "7f22ad69-9fd0-405a-a5da-91c1bb3bca55",
   "metadata": {},
   "outputs": [
    {
     "data": {
      "text/html": [
       "<div>\n",
       "<style scoped>\n",
       "    .dataframe tbody tr th:only-of-type {\n",
       "        vertical-align: middle;\n",
       "    }\n",
       "\n",
       "    .dataframe tbody tr th {\n",
       "        vertical-align: top;\n",
       "    }\n",
       "\n",
       "    .dataframe thead th {\n",
       "        text-align: right;\n",
       "    }\n",
       "</style>\n",
       "<table border=\"1\" class=\"dataframe\">\n",
       "  <thead>\n",
       "    <tr style=\"text-align: right;\">\n",
       "      <th></th>\n",
       "      <th>AÑO</th>\n",
       "      <th>MES</th>\n",
       "      <th>PAIS_RESIDENCIA</th>\n",
       "      <th>TIPO_VISITANTE</th>\n",
       "      <th>CCAA_DESTINO</th>\n",
       "      <th>VISITANTES</th>\n",
       "    </tr>\n",
       "  </thead>\n",
       "  <tbody>\n",
       "    <tr>\n",
       "      <th>29940</th>\n",
       "      <td>2025</td>\n",
       "      <td>5</td>\n",
       "      <td>Suiza</td>\n",
       "      <td>Turista</td>\n",
       "      <td>Extremadura</td>\n",
       "      <td>87</td>\n",
       "    </tr>\n",
       "    <tr>\n",
       "      <th>29941</th>\n",
       "      <td>2025</td>\n",
       "      <td>5</td>\n",
       "      <td>Suiza</td>\n",
       "      <td>Turista</td>\n",
       "      <td>Galicia</td>\n",
       "      <td>2157</td>\n",
       "    </tr>\n",
       "    <tr>\n",
       "      <th>29942</th>\n",
       "      <td>2025</td>\n",
       "      <td>5</td>\n",
       "      <td>Suiza</td>\n",
       "      <td>Turista</td>\n",
       "      <td>País Vasco</td>\n",
       "      <td>1132</td>\n",
       "    </tr>\n",
       "    <tr>\n",
       "      <th>29943</th>\n",
       "      <td>2025</td>\n",
       "      <td>5</td>\n",
       "      <td>Suiza</td>\n",
       "      <td>Turista</td>\n",
       "      <td>Principado de Asturias</td>\n",
       "      <td>164</td>\n",
       "    </tr>\n",
       "    <tr>\n",
       "      <th>29944</th>\n",
       "      <td>2025</td>\n",
       "      <td>5</td>\n",
       "      <td>Suiza</td>\n",
       "      <td>Turista</td>\n",
       "      <td>Región de Murcia</td>\n",
       "      <td>12089</td>\n",
       "    </tr>\n",
       "  </tbody>\n",
       "</table>\n",
       "</div>"
      ],
      "text/plain": [
       "        AÑO  MES PAIS_RESIDENCIA TIPO_VISITANTE             CCAA_DESTINO  \\\n",
       "29940  2025    5          Suiza         Turista            Extremadura     \n",
       "29941  2025    5          Suiza         Turista                Galicia     \n",
       "29942  2025    5          Suiza         Turista              País Vasco    \n",
       "29943  2025    5          Suiza         Turista  Principado de Asturias    \n",
       "29944  2025    5          Suiza         Turista       Región de Murcia     \n",
       "\n",
       "       VISITANTES  \n",
       "29940          87  \n",
       "29941        2157  \n",
       "29942        1132  \n",
       "29943         164  \n",
       "29944       12089  "
      ]
     },
     "execution_count": 48,
     "metadata": {},
     "output_type": "execute_result"
    }
   ],
   "source": [
    "# Para visualizar un archivo en concreto:\n",
    "\n",
    "datasets[\"FRONTUR_DL\"].tail()"
   ]
  },
  {
   "cell_type": "code",
   "execution_count": 49,
   "id": "1075dcb1-3c03-4da0-9d8c-e6b1e8d85f3b",
   "metadata": {},
   "outputs": [
    {
     "data": {
      "text/html": [
       "<div>\n",
       "<style scoped>\n",
       "    .dataframe tbody tr th:only-of-type {\n",
       "        vertical-align: middle;\n",
       "    }\n",
       "\n",
       "    .dataframe tbody tr th {\n",
       "        vertical-align: top;\n",
       "    }\n",
       "\n",
       "    .dataframe thead th {\n",
       "        text-align: right;\n",
       "    }\n",
       "</style>\n",
       "<table border=\"1\" class=\"dataframe\">\n",
       "  <thead>\n",
       "    <tr style=\"text-align: right;\">\n",
       "      <th></th>\n",
       "      <th>AÑO</th>\n",
       "      <th>MES</th>\n",
       "      <th>PAIS_RESIDENCIA</th>\n",
       "      <th>TIPO_VISITANTE</th>\n",
       "      <th>CCAA_DESTINO</th>\n",
       "      <th>PERNOCTACIONES</th>\n",
       "      <th>GASTO_TOTAL</th>\n",
       "    </tr>\n",
       "  </thead>\n",
       "  <tbody>\n",
       "    <tr>\n",
       "      <th>0</th>\n",
       "      <td>2018</td>\n",
       "      <td>1</td>\n",
       "      <td>Alemania</td>\n",
       "      <td>Excursionista no residente (no tránsito)</td>\n",
       "      <td>Andalucía</td>\n",
       "      <td>0</td>\n",
       "      <td>306434.84</td>\n",
       "    </tr>\n",
       "    <tr>\n",
       "      <th>1</th>\n",
       "      <td>2018</td>\n",
       "      <td>1</td>\n",
       "      <td>Alemania</td>\n",
       "      <td>Excursionista no residente (no tránsito)</td>\n",
       "      <td>Canarias</td>\n",
       "      <td>0</td>\n",
       "      <td>14063908.66</td>\n",
       "    </tr>\n",
       "    <tr>\n",
       "      <th>2</th>\n",
       "      <td>2018</td>\n",
       "      <td>1</td>\n",
       "      <td>Alemania</td>\n",
       "      <td>Excursionista no residente (no tránsito)</td>\n",
       "      <td>Cataluña</td>\n",
       "      <td>0</td>\n",
       "      <td>549930.72</td>\n",
       "    </tr>\n",
       "    <tr>\n",
       "      <th>3</th>\n",
       "      <td>2018</td>\n",
       "      <td>1</td>\n",
       "      <td>Alemania</td>\n",
       "      <td>Excursionista no residente (no tránsito)</td>\n",
       "      <td>Illes Balears</td>\n",
       "      <td>0</td>\n",
       "      <td>956234.72</td>\n",
       "    </tr>\n",
       "    <tr>\n",
       "      <th>4</th>\n",
       "      <td>2018</td>\n",
       "      <td>1</td>\n",
       "      <td>Alemania</td>\n",
       "      <td>Excursionista no residente en tránsito</td>\n",
       "      <td>Transito</td>\n",
       "      <td>0</td>\n",
       "      <td>3847358.72</td>\n",
       "    </tr>\n",
       "  </tbody>\n",
       "</table>\n",
       "</div>"
      ],
      "text/plain": [
       "    AÑO  MES PAIS_RESIDENCIA                            TIPO_VISITANTE  \\\n",
       "0  2018    1        Alemania  Excursionista no residente (no tránsito)   \n",
       "1  2018    1        Alemania  Excursionista no residente (no tránsito)   \n",
       "2  2018    1        Alemania  Excursionista no residente (no tránsito)   \n",
       "3  2018    1        Alemania  Excursionista no residente (no tránsito)   \n",
       "4  2018    1        Alemania    Excursionista no residente en tránsito   \n",
       "\n",
       "    CCAA_DESTINO  PERNOCTACIONES  GASTO_TOTAL  \n",
       "0      Andalucía               0    306434.84  \n",
       "1       Canarias               0  14063908.66  \n",
       "2       Cataluña               0    549930.72  \n",
       "3  Illes Balears               0    956234.72  \n",
       "4       Transito               0   3847358.72  "
      ]
     },
     "execution_count": 49,
     "metadata": {},
     "output_type": "execute_result"
    }
   ],
   "source": [
    "datasets[\"EGATUR_DL\"].head()"
   ]
  },
  {
   "cell_type": "code",
   "execution_count": null,
   "id": "6418b62c-5d5a-4c14-80c2-a5f7e60323da",
   "metadata": {},
   "outputs": [],
   "source": []
  }
 ],
 "metadata": {
  "kernelspec": {
   "display_name": "Python 3 (ipykernel)",
   "language": "python",
   "name": "python3"
  },
  "language_info": {
   "codemirror_mode": {
    "name": "ipython",
    "version": 3
   },
   "file_extension": ".py",
   "mimetype": "text/x-python",
   "name": "python",
   "nbconvert_exporter": "python",
   "pygments_lexer": "ipython3",
   "version": "3.13.5"
  }
 },
 "nbformat": 4,
 "nbformat_minor": 5
}
