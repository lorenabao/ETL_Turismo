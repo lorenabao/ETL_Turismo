{
 "cells": [
  {
   "cell_type": "code",
<<<<<<< HEAD
   "execution_count": 127,
=======
   "execution_count": 5,
>>>>>>> 80882354efb06dbb2d6407a66e8bd95a88d1fcf7
   "id": "474a2cd8-939d-4de9-9ee0-a58816fb6ffa",
   "metadata": {},
   "outputs": [],
   "source": [
    "import requests\n",
    "import pandas as pd\n",
    "from io import BytesIO\n",
    "import os\n",
    "from io import StringIO"
   ]
  },
  {
   "cell_type": "code",
   "execution_count": 128,
   "id": "8e21c215-804e-4c1c-a1c9-f18cf98baf75",
   "metadata": {},
   "outputs": [],
   "source": [
    "# https://www.dataestur.es/en/apidata/"
   ]
  },
  {
   "cell_type": "code",
<<<<<<< HEAD
   "execution_count": 129,
=======
   "execution_count": 6,
>>>>>>> 80882354efb06dbb2d6407a66e8bd95a88d1fcf7
   "id": "b487842e-19f6-49a5-a207-3216ffebdf02",
   "metadata": {},
   "outputs": [],
   "source": [
    "# Añadimos las urls de las que necesitamos descargar archivos. Key = Name; Value = URL\n",
    "\n",
    "downloads = {\n",
    "    \"FRONTUR_DL\": \"https://dataestur.azure-api.net/API-SEGITTUR-v1/FRONTUR_DL?desde%20%28a%C3%B1o%29=2018&Pa%C3%ADs%20de%20residencia=Todos&Tipo%20de%20visitante=Todos&CCAA%20de%20destino=Todos\",\n",
<<<<<<< HEAD
    "    \"TURISMO_INTERNO_PROV_CCAA_DL\": \"https://dataestur.azure-api.net/API-SEGITTUR-v1/TURISMO_INTERNO_PROV_CCAA_DL?CCAA%20de%20residencia=Todos&CCAA%20de%20destino=Todos\",\n",
    "    \"GASTO_TPV_DESTINO_CCAA_MES_DL\": \"https://dataestur.azure-api.net/API-SEGITTUR-v1/GASTO_TPV_DESTINO_CCAA_MES_DL?desde%20(a%C3%B1o)=2018\",\n",
    "    \"CST_GASTO_CONSUMO_TURISTICO_DL\": \"https://dataestur.azure-api.net/API-SEGITTUR-v1/CST_GASTO_CONSUMO_TURISTICO_DL?Producto=Todos\"}\n",
    "   # \"EGATUR_DL\": \"https://dataestur.azure-api.net/API-SEGITTUR-v1/EGATUR_DL?desde%20%28a%C3%B1o%29=2018&Pa%C3%ADs%20de%20residencia=Todos&CCAA%20de%20destino=Todos\",\n",
    "   # \"ACTIVIDADES_OCIO_DL\": \"https://dataestur.azure-api.net/API-SEGITTUR-v1/ACTIVIDADES_OCIO_DL?CCAA=Todos&Provincia=Todos\",\n",
    "   # \"TRANSPORTE_TERRESTRE_DL\": \"https://dataestur.azure-api.net/API-SEGITTUR-v1/TRANSPORTE_TERRESTRE_DL?desde%20%28a%C3%B1o%29=2018&Tipo%20transporte=Todos\",\n",
    "   # \"CONECTIVIDAD_AEREA_BUSQUEDAS_INICIO_VIAJE_DL\": \"https://dataestur.azure-api.net/API-SEGITTUR-v1/CONECTIVIDAD_AEREA_BUSQUEDAS_INICIO_VIAJE_DL?Pa%C3%ADs%20origen=Todos&Ciudad%20destino=Todos&Tipo%20origen=Todos\",\n",
    "   # \"ESCUCHA_ACTIVA_DL\": \"https://dataestur.azure-api.net/API-SEGITTUR-v1/ESCUCHA_ACTIVA_DL?Idioma=Todos&Medio=Todos&Sentimiento=Todos\","
=======
    "    \"EGATUR_DL\": \"https://dataestur.azure-api.net/API-SEGITTUR-v1/EGATUR_DL?desde%20%28a%C3%B1o%29=2018&Pa%C3%ADs%20de%20residencia=Todos&CCAA%20de%20destino=Todos\",\n",
    "    \"ACTIVIDADES_OCIO_DL\": \"https://dataestur.azure-api.net/API-SEGITTUR-v1/ACTIVIDADES_OCIO_DL?CCAA=Todos&Provincia=Todos\",\n",
    "    \"CONECTIVIDAD_AEREA_BUSQUEDAS_INICIO_VIAJE_DL\": \"https://dataestur.azure-api.net/API-SEGITTUR-v1/CONECTIVIDAD_AEREA_BUSQUEDAS_INICIO_VIAJE_DL?Pa%C3%ADs%20origen=Todos&Ciudad%20destino=Todos&Tipo%20origen=Todos\",\n",
    "    \"CST_GASTO_CONSUMO_TURISTICO_DL\": \"https://dataestur.azure-api.net/API-SEGITTUR-v1/CST_GASTO_CONSUMO_TURISTICO_DL?Producto=Todos\",\n",
    "    \"ATRACCIONES_RECURSOS_TURISTICOS_DL\": \"https://dataestur.azure-api.net/API-SEGITTUR-v1/ATRACCIONES_RECURSOS_TURISTICOS_DL?CCAA=Todos&Provincia=Todos\"\n",
    "}"
>>>>>>> 80882354efb06dbb2d6407a66e8bd95a88d1fcf7
   ]
  },
  {
   "cell_type": "code",
<<<<<<< HEAD
   "execution_count": 130,
=======
   "execution_count": 7,
>>>>>>> 80882354efb06dbb2d6407a66e8bd95a88d1fcf7
   "id": "4e802ea6-ba2c-469d-aeb0-87d56fb515f7",
   "metadata": {},
   "outputs": [],
   "source": [
    "# Creamos una función para descargar un diccionario de URLS. Para ello tenemos que pasarle la url y un nombre de archivo.\n",
    "# La descarga devuelve un tipo binario, así que usamos BytesIO y lo convertimos en Dataframe con Pandas.\n",
    "\n",
    "def download_file(url, file_name, folder=\"./data\"):\n",
    "    file_path = os.path.join(folder, f\"{file_name}.xlsx\")\n",
    "\n",
    "    if os.path.exists(file_path):\n",
    "        print(f\"- {file_name}.xlsx ya existe.\")\n",
    "        return pd.read_excel(file_path)\n",
    "\n",
    "    response = requests.get(url)\n",
    "    \n",
    "    if response.status_code == 200:\n",
    "        file_type = response.headers[\"Content-Disposition\"].split(\".\")[-1]\n",
    "\n",
    "        if file_type == \"xlsx\":\n",
    "            df = pd.read_excel(BytesIO(response.content))\n",
    "            df.to_excel(file_path)\n",
    "            print(f\"{file_name}.xlsx descargado y guardado.\")\n",
    "            return df\n",
    "        elif file_type == \"csv\":\n",
    "            encoding = response.apparent_encoding\n",
    "            df = pd.read_csv(StringIO(response.content.decode(encoding)), sep=';', engine='python')\n",
    "            df.to_excel(file_path)\n",
    "            print(f\"{file_name}.csv descargado y guarado.\")\n",
    "            return df\n",
    "    else:\n",
    "        print(f\"Error al descargar {file_name}: {response.status_code}\")\n",
    "        return None"
   ]
  },
  {
   "cell_type": "code",
<<<<<<< HEAD
   "execution_count": 131,
=======
   "execution_count": 8,
>>>>>>> 80882354efb06dbb2d6407a66e8bd95a88d1fcf7
   "id": "8df69d2b-82a4-45f3-8630-9031905621d5",
   "metadata": {},
   "outputs": [
    {
     "name": "stdout",
     "output_type": "stream",
     "text": [
<<<<<<< HEAD
      "- FRONTUR_DL.xlsx ya existe.\n",
      "- TURISMO_INTERNO_PROV_CCAA_DL.xlsx ya existe.\n",
      "- GASTO_TPV_DESTINO_CCAA_MES_DL.xlsx ya existe.\n",
      "- CST_GASTO_CONSUMO_TURISTICO_DL.xlsx ya existe.\n"
=======
      "- FRONTUR_DL.xlsx already exists.\n",
      "- EGATUR_DL.xlsx already exists.\n",
      "- ACTIVIDADES_OCIO_DL.xlsx already exists.\n",
      "- CONECTIVIDAD_AEREA_BUSQUEDAS_INICIO_VIAJE_DL.xlsx already exists.\n",
      "- CST_GASTO_CONSUMO_TURISTICO_DL.xlsx already exists.\n",
      "ATRACCIONES_RECURSOS_TURISTICOS_DL.csv downloaded and saved.\n"
>>>>>>> 80882354efb06dbb2d6407a66e8bd95a88d1fcf7
     ]
    }
   ],
   "source": [
    "# Guardamos todos los dataframes. Llamamos nuestra función para crear un nuevo diccionario de dataframes.\n",
    "\n",
    "datasets = {}\n",
    "\n",
    "for name, url in downloads.items():\n",
    "    df = download_file(url, name)\n",
    "    if df is not None:\n",
    "        datasets[name] = df"
   ]
  },
  {
   "cell_type": "code",
<<<<<<< HEAD
   "execution_count": 223,
=======
   "execution_count": 9,
>>>>>>> 80882354efb06dbb2d6407a66e8bd95a88d1fcf7
   "id": "5ac71938-0b9c-4adb-afba-7fd4465dc0c5",
   "metadata": {
    "scrolled": true
   },
   "outputs": [
    {
     "name": "stdout",
     "output_type": "stream",
     "text": [
      "\n",
      " FRONTUR_DL\n",
<<<<<<< HEAD
      "Columns: ['Unnamed: 0', 'AÑO', 'MES', 'PAIS_RESIDENCIA', 'TIPO_VISITANTE', 'CCAA_DESTINO', 'VISITANTES']\n",
      "First 3 rows:\n",
      "    Unnamed: 0   AÑO  MES PAIS_RESIDENCIA TIPO_VISITANTE CCAA_DESTINO  \\\n",
      "0           0  2018    1        Alemania  Excursionista    Andalucía   \n",
      "\n",
      "   VISITANTES  \n",
      "0         818  \n",
      "\n",
      " TURISMO_INTERNO_PROV_CCAA_DL\n",
      "Columns: ['Unnamed: 0', 'AÑO', 'MES', 'CCAA_ORIGEN', 'PROVINCIA_ORIGEN', 'CCAA_DESTINO', 'PROVINCIA_DESTINO', 'TURISTAS', 'PERNOCTACIONES', 'ESTANCIA_MEDIA']\n",
      "First 3 rows:\n",
      "    Unnamed: 0   AÑO  MES CCAA_ORIGEN PROVINCIA_ORIGEN CCAA_DESTINO  \\\n",
      "0           0  2019    7   Andalucía          Almería    Andalucía   \n",
      "\n",
      "  PROVINCIA_DESTINO TURISTAS PERNOCTACIONES ESTANCIA_MEDIA  \n",
      "0             Cádiz   8910,0        33536,0            3,8  \n",
      "\n",
      " GASTO_TPV_DESTINO_CCAA_MES_DL\n",
      "Columns: ['Unnamed: 0', 'AÑO', 'MES', 'CCAA_DESTINO', 'TIPO_ORIGEN', 'GASTO', 'TRANSACCION']\n",
      "First 3 rows:\n",
      "    Unnamed: 0   AÑO  MES CCAA_DESTINO    TIPO_ORIGEN        GASTO  TRANSACCION\n",
      "0           0  2019    1    Andalucía  Internacional  18481196,78       414192\n",
      "\n",
      " CST_GASTO_CONSUMO_TURISTICO_DL\n",
      "Columns: ['Unnamed: 0', 'AÑO', 'PRODUCTO', 'NUM_GASTO_INTERIOR', 'NUM_GASTO_INTERNO', 'NUM_GASTO_EMISOR', 'NUM_CONSUMO_TURISTICO_INTERIOR', 'NUM_CONSUMO_OTROS_COMPONENTES_TURISTICOS', 'NUM_GASTO_RECEPTOR']\n",
      "First 3 rows:\n",
      "    Unnamed: 0   AÑO                                         PRODUCTO  \\\n",
      "0           0  2016  Agencias de viajes y otros servicios de reserva   \n",
      "\n",
      "   NUM_GASTO_INTERIOR  NUM_GASTO_INTERNO  NUM_GASTO_EMISOR  \\\n",
      "0              6910.6             5090.6            3509.2   \n",
      "\n",
      "   NUM_CONSUMO_TURISTICO_INTERIOR  NUM_CONSUMO_OTROS_COMPONENTES_TURISTICOS  \\\n",
      "0                          7021.3                                     110.7   \n",
      "\n",
      "   NUM_GASTO_RECEPTOR  \n",
      "0              1819.9  \n"
=======
      "Columns: ['AÑO', 'MES', 'PAIS_RESIDENCIA', 'TIPO_VISITANTE', 'CCAA_DESTINO', 'VISITANTES']\n",
      "\n",
      " EGATUR_DL\n",
      "Columns: ['AÑO', 'MES', 'PAIS_RESIDENCIA', 'TIPO_VISITANTE', 'CCAA_DESTINO', 'PERNOCTACIONES', 'GASTO_TOTAL']\n",
      "\n",
      " ACTIVIDADES_OCIO_DL\n",
      "Columns: ['AÑO', 'MES', 'PRODUCTO', 'CATEGORIA', 'CCAA', 'PROVINCIA', 'ENTRADAS', 'VISITAS_PAGINAS', 'GASTO_TOTAL', 'PRECIO_MEDIO_ENTRADA', 'TRANSACCIONES']\n",
      "\n",
      " CONECTIVIDAD_AEREA_BUSQUEDAS_INICIO_VIAJE_DL\n",
      "Columns: ['Unnamed: 0', 'AÑO', 'MES', 'PAIS_ORIGEN', 'CIUDAD_DESTINO', 'TIPO_ORIGEN', 'BUSQUEDAS', 'ANTELACION', 'ESTANCIA_MEDIA', 'VARIACION_INTERANUAL_BUSQUEDAS']\n",
      "\n",
      " CST_GASTO_CONSUMO_TURISTICO_DL\n",
      "Columns: ['Unnamed: 0', 'AÑO', 'PRODUCTO', 'NUM_GASTO_INTERIOR', 'NUM_GASTO_INTERNO', 'NUM_GASTO_EMISOR', 'NUM_CONSUMO_TURISTICO_INTERIOR', 'NUM_CONSUMO_OTROS_COMPONENTES_TURISTICOS', 'NUM_GASTO_RECEPTOR']\n",
      "\n",
      " ATRACCIONES_RECURSOS_TURISTICOS_DL\n",
      "Columns: ['CATEGORIA', 'CCAA', 'PROVINCIA', 'VALORACION_POR_CATEGORIA', 'TOTAL_OPINIONES_CATEGORIA', 'VALORACION_GENERAL']\n"
>>>>>>> 80882354efb06dbb2d6407a66e8bd95a88d1fcf7
     ]
    }
   ],
   "source": [
    "#Para visualizar datos en conjunto:\n",
    "\n",
    "for name, df in datasets.items():\n",
    "    print(f\"\\n {name}\")\n",
<<<<<<< HEAD
    "    print(\"Columns:\", df.columns.tolist())\n",
    "    print(\"First 3 rows:\\n\", df.head(1))"
   ]
  },
  {
   "cell_type": "code",
   "execution_count": 224,
   "id": "8de6d2f4-7c1f-4149-9e40-244da5f5ee2d",
   "metadata": {},
   "outputs": [
    {
     "data": {
      "text/html": [
       "<div>\n",
       "<style scoped>\n",
       "    .dataframe tbody tr th:only-of-type {\n",
       "        vertical-align: middle;\n",
       "    }\n",
       "\n",
       "    .dataframe tbody tr th {\n",
       "        vertical-align: top;\n",
       "    }\n",
       "\n",
       "    .dataframe thead th {\n",
       "        text-align: right;\n",
       "    }\n",
       "</style>\n",
       "<table border=\"1\" class=\"dataframe\">\n",
       "  <thead>\n",
       "    <tr style=\"text-align: right;\">\n",
       "      <th></th>\n",
       "      <th>Unnamed: 0</th>\n",
       "      <th>AÑO</th>\n",
       "      <th>MES</th>\n",
       "      <th>PAIS_RESIDENCIA</th>\n",
       "      <th>TIPO_VISITANTE</th>\n",
       "      <th>CCAA_DESTINO</th>\n",
       "      <th>VISITANTES</th>\n",
       "    </tr>\n",
       "  </thead>\n",
       "  <tbody>\n",
       "    <tr>\n",
       "      <th>0</th>\n",
       "      <td>0</td>\n",
       "      <td>2018</td>\n",
       "      <td>1</td>\n",
       "      <td>Alemania</td>\n",
       "      <td>Excursionista</td>\n",
       "      <td>Andalucía</td>\n",
       "      <td>818</td>\n",
       "    </tr>\n",
       "    <tr>\n",
       "      <th>1</th>\n",
       "      <td>1</td>\n",
       "      <td>2018</td>\n",
       "      <td>1</td>\n",
       "      <td>Alemania</td>\n",
       "      <td>Excursionista</td>\n",
       "      <td>Baleares</td>\n",
       "      <td>3694</td>\n",
       "    </tr>\n",
       "  </tbody>\n",
       "</table>\n",
       "</div>"
      ],
      "text/plain": [
       "   Unnamed: 0   AÑO  MES PAIS_RESIDENCIA TIPO_VISITANTE CCAA_DESTINO  \\\n",
       "0           0  2018    1        Alemania  Excursionista    Andalucía   \n",
       "1           1  2018    1        Alemania  Excursionista    Baleares    \n",
       "\n",
       "   VISITANTES  \n",
       "0         818  \n",
       "1        3694  "
      ]
     },
     "execution_count": 224,
     "metadata": {},
     "output_type": "execute_result"
    }
   ],
   "source": [
    "datasets[\"FRONTUR_DL\"].head(2)"
   ]
  },
  {
   "cell_type": "code",
   "execution_count": 209,
   "id": "36740ea9-43aa-4e3a-870a-2f6015009f9b",
   "metadata": {},
   "outputs": [
    {
     "data": {
      "text/html": [
       "<div>\n",
       "<style scoped>\n",
       "    .dataframe tbody tr th:only-of-type {\n",
       "        vertical-align: middle;\n",
       "    }\n",
       "\n",
       "    .dataframe tbody tr th {\n",
       "        vertical-align: top;\n",
       "    }\n",
       "\n",
       "    .dataframe thead th {\n",
       "        text-align: right;\n",
       "    }\n",
       "</style>\n",
       "<table border=\"1\" class=\"dataframe\">\n",
       "  <thead>\n",
       "    <tr style=\"text-align: right;\">\n",
       "      <th></th>\n",
       "      <th>Unnamed: 0</th>\n",
       "      <th>AÑO</th>\n",
       "      <th>MES</th>\n",
       "      <th>CCAA_ORIGEN</th>\n",
       "      <th>PROVINCIA_ORIGEN</th>\n",
       "      <th>CCAA_DESTINO</th>\n",
       "      <th>PROVINCIA_DESTINO</th>\n",
       "      <th>TURISTAS</th>\n",
       "      <th>PERNOCTACIONES</th>\n",
       "      <th>ESTANCIA_MEDIA</th>\n",
       "    </tr>\n",
       "  </thead>\n",
       "  <tbody>\n",
       "    <tr>\n",
       "      <th>0</th>\n",
       "      <td>0</td>\n",
       "      <td>2019</td>\n",
       "      <td>7</td>\n",
       "      <td>Andalucía</td>\n",
       "      <td>Almería</td>\n",
       "      <td>Andalucía</td>\n",
       "      <td>Cádiz</td>\n",
       "      <td>8910,0</td>\n",
       "      <td>33536,0</td>\n",
       "      <td>3,8</td>\n",
       "    </tr>\n",
       "    <tr>\n",
       "      <th>1</th>\n",
       "      <td>1</td>\n",
       "      <td>2019</td>\n",
       "      <td>7</td>\n",
       "      <td>Andalucía</td>\n",
       "      <td>Almería</td>\n",
       "      <td>Andalucía</td>\n",
       "      <td>Córdoba</td>\n",
       "      <td>3468,0</td>\n",
       "      <td>11981,0</td>\n",
       "      <td>3,5</td>\n",
       "    </tr>\n",
       "  </tbody>\n",
       "</table>\n",
       "</div>"
      ],
      "text/plain": [
       "   Unnamed: 0   AÑO  MES CCAA_ORIGEN PROVINCIA_ORIGEN CCAA_DESTINO  \\\n",
       "0           0  2019    7   Andalucía          Almería    Andalucía   \n",
       "1           1  2019    7   Andalucía          Almería    Andalucía   \n",
       "\n",
       "  PROVINCIA_DESTINO TURISTAS PERNOCTACIONES ESTANCIA_MEDIA  \n",
       "0             Cádiz   8910,0        33536,0            3,8  \n",
       "1           Córdoba   3468,0        11981,0            3,5  "
      ]
     },
     "execution_count": 209,
     "metadata": {},
     "output_type": "execute_result"
    }
   ],
   "source": [
    "datasets[\"TURISMO_INTERNO_PROV_CCAA_DL\"].head(2)"
   ]
  },
  {
   "cell_type": "code",
   "execution_count": 210,
   "id": "c5cecdb1-9072-4299-8b53-545c053b51d0",
   "metadata": {},
   "outputs": [
    {
     "data": {
      "text/html": [
       "<div>\n",
       "<style scoped>\n",
       "    .dataframe tbody tr th:only-of-type {\n",
       "        vertical-align: middle;\n",
       "    }\n",
       "\n",
       "    .dataframe tbody tr th {\n",
       "        vertical-align: top;\n",
       "    }\n",
       "\n",
       "    .dataframe thead th {\n",
       "        text-align: right;\n",
       "    }\n",
       "</style>\n",
       "<table border=\"1\" class=\"dataframe\">\n",
       "  <thead>\n",
       "    <tr style=\"text-align: right;\">\n",
       "      <th></th>\n",
       "      <th>Unnamed: 0</th>\n",
       "      <th>AÑO</th>\n",
       "      <th>MES</th>\n",
       "      <th>CCAA_DESTINO</th>\n",
       "      <th>TIPO_ORIGEN</th>\n",
       "      <th>GASTO</th>\n",
       "      <th>TRANSACCION</th>\n",
       "    </tr>\n",
       "  </thead>\n",
       "  <tbody>\n",
       "    <tr>\n",
       "      <th>0</th>\n",
       "      <td>0</td>\n",
       "      <td>2019</td>\n",
       "      <td>1</td>\n",
       "      <td>Andalucía</td>\n",
       "      <td>Internacional</td>\n",
       "      <td>18481196,78</td>\n",
       "      <td>414192</td>\n",
       "    </tr>\n",
       "    <tr>\n",
       "      <th>1</th>\n",
       "      <td>1</td>\n",
       "      <td>2019</td>\n",
       "      <td>1</td>\n",
       "      <td>Andalucía</td>\n",
       "      <td>Interregional</td>\n",
       "      <td>34039254,92</td>\n",
       "      <td>952493</td>\n",
       "    </tr>\n",
       "  </tbody>\n",
       "</table>\n",
       "</div>"
      ],
      "text/plain": [
       "   Unnamed: 0   AÑO  MES CCAA_DESTINO    TIPO_ORIGEN        GASTO  TRANSACCION\n",
       "0           0  2019    1    Andalucía  Internacional  18481196,78       414192\n",
       "1           1  2019    1    Andalucía  Interregional  34039254,92       952493"
      ]
     },
     "execution_count": 210,
     "metadata": {},
     "output_type": "execute_result"
    }
   ],
   "source": [
    "datasets[\"GASTO_TPV_DESTINO_CCAA_MES_DL\"].head(2)"
   ]
  },
  {
   "cell_type": "code",
   "execution_count": 248,
   "id": "134a11fe-b0a9-4be2-a481-864a03b224a6",
   "metadata": {},
   "outputs": [
    {
     "data": {
      "text/html": [
       "<div>\n",
       "<style scoped>\n",
       "    .dataframe tbody tr th:only-of-type {\n",
       "        vertical-align: middle;\n",
       "    }\n",
       "\n",
       "    .dataframe tbody tr th {\n",
       "        vertical-align: top;\n",
       "    }\n",
       "\n",
       "    .dataframe thead th {\n",
       "        text-align: right;\n",
       "    }\n",
       "</style>\n",
       "<table border=\"1\" class=\"dataframe\">\n",
       "  <thead>\n",
       "    <tr style=\"text-align: right;\">\n",
       "      <th></th>\n",
       "      <th>Unnamed: 0</th>\n",
       "      <th>AÑO</th>\n",
       "      <th>PRODUCTO</th>\n",
       "      <th>NUM_GASTO_INTERIOR</th>\n",
       "      <th>NUM_GASTO_INTERNO</th>\n",
       "      <th>NUM_GASTO_EMISOR</th>\n",
       "      <th>NUM_CONSUMO_TURISTICO_INTERIOR</th>\n",
       "      <th>NUM_CONSUMO_OTROS_COMPONENTES_TURISTICOS</th>\n",
       "      <th>NUM_GASTO_RECEPTOR</th>\n",
       "    </tr>\n",
       "  </thead>\n",
       "  <tbody>\n",
       "    <tr>\n",
       "      <th>0</th>\n",
       "      <td>0</td>\n",
       "      <td>2016</td>\n",
       "      <td>Agencias de viajes y otros servicios de reserva</td>\n",
       "      <td>6910.6</td>\n",
       "      <td>5090.6</td>\n",
       "      <td>3509.2</td>\n",
       "      <td>7021.3</td>\n",
       "      <td>110.7</td>\n",
       "      <td>1819.9</td>\n",
       "    </tr>\n",
       "    <tr>\n",
       "      <th>1</th>\n",
       "      <td>1</td>\n",
       "      <td>2016</td>\n",
       "      <td>Hoteles y similares</td>\n",
       "      <td>23393.6</td>\n",
       "      <td>9216.4</td>\n",
       "      <td>4030.7</td>\n",
       "      <td>23467.8</td>\n",
       "      <td>74.2</td>\n",
       "      <td>14177.2</td>\n",
       "    </tr>\n",
       "  </tbody>\n",
       "</table>\n",
       "</div>"
      ],
      "text/plain": [
       "   Unnamed: 0   AÑO                                         PRODUCTO  \\\n",
       "0           0  2016  Agencias de viajes y otros servicios de reserva   \n",
       "1           1  2016                              Hoteles y similares   \n",
       "\n",
       "   NUM_GASTO_INTERIOR  NUM_GASTO_INTERNO  NUM_GASTO_EMISOR  \\\n",
       "0              6910.6             5090.6            3509.2   \n",
       "1             23393.6             9216.4            4030.7   \n",
       "\n",
       "   NUM_CONSUMO_TURISTICO_INTERIOR  NUM_CONSUMO_OTROS_COMPONENTES_TURISTICOS  \\\n",
       "0                          7021.3                                     110.7   \n",
       "1                         23467.8                                      74.2   \n",
       "\n",
       "   NUM_GASTO_RECEPTOR  \n",
       "0              1819.9  \n",
       "1             14177.2  "
      ]
     },
     "execution_count": 248,
     "metadata": {},
     "output_type": "execute_result"
    }
   ],
   "source": [
    "datasets[\"CST_GASTO_CONSUMO_TURISTICO_DL\"].head(2)"
   ]
  },
  {
   "cell_type": "code",
   "execution_count": 211,
   "id": "e0d1a428-074e-492f-ab3b-4ade5339f536",
   "metadata": {
    "scrolled": true
   },
   "outputs": [
    {
     "data": {
      "text/plain": [
       "CCAA_DESTINO\n",
       "Cataluña      161578411\n",
       "Canarias       88495347\n",
       "Andalucía      88145477\n",
       "Baleares       85091689\n",
       "Transito       80351513\n",
       "Name: VISITANTES, dtype: int64"
      ]
     },
     "execution_count": 211,
     "metadata": {},
     "output_type": "execute_result"
    }
   ],
   "source": [
    "df_internacional = datasets[\"FRONTUR_DL\"].copy()\n",
    "df_internacional.groupby(\"CCAA_DESTINO\")[\"VISITANTES\"].sum().sort_values(ascending=False).head()"
   ]
  },
  {
   "cell_type": "code",
   "execution_count": 253,
   "id": "7b06b1b8-b238-42ea-88d3-42927e5573b1",
   "metadata": {},
   "outputs": [
    {
     "data": {
      "text/plain": [
       "CCAA_DESTINO\n",
       "Andalucía               370270805\n",
       "Cataluña                289584593\n",
       "Comunidad de Madrid     199334614\n",
       "Comunitat Valenciana    194219610\n",
       "Castilla y León         191184938\n",
       "Name: TURISTAS, dtype: int32"
      ]
     },
     "execution_count": 253,
     "metadata": {},
     "output_type": "execute_result"
    }
   ],
   "source": [
    "df_nacional = datasets[\"TURISMO_INTERNO_PROV_CCAA_DL\"].copy()\n",
    "df_nacional.groupby(\"CCAA_DESTINO\")[\"TURISTAS\"].sum().sort_values(ascending=False).head()"
   ]
  },
  {
   "cell_type": "code",
   "execution_count": 260,
   "id": "d445886a-e771-4047-be5d-66cb993b750f",
   "metadata": {},
   "outputs": [
    {
     "name": "stdout",
     "output_type": "stream",
     "text": [
      "['Internacional' 'Interregional' 'Regional' 'Total Nacional']\n"
     ]
    }
   ],
   "source": [
    "print(df_gasto[\"TIPO_ORIGEN\"].unique())"
   ]
  },
  {
   "cell_type": "code",
   "execution_count": 258,
   "id": "ff1f2d2b-9596-4a90-93a5-1c1996fdf8ab",
   "metadata": {},
   "outputs": [
    {
     "data": {
      "text/plain": [
       "CCAA_DESTINO\n",
       "La Rioja           97428,4576797,61111560,07167017,83330140,28247...\n",
       "Castilla y León    793046,86568247,28792382,971096406,491282510,1...\n",
       "Melilla            59660,9431020,6148212,461709,8955731,8264523,8...\n",
       "País Vasco         5570422,895433257,626641640,99378513,571170674...\n",
       "Extremadura        527429,96512252,98605432,8729106,79685418,6969...\n",
       "Name: GASTO, dtype: object"
      ]
     },
     "execution_count": 258,
     "metadata": {},
     "output_type": "execute_result"
    }
   ],
   "source": [
    "df_gasto = datasets[\"GASTO_TPV_DESTINO_CCAA_MES_DL\"].copy()\n",
    "df_gasto[(df_gasto[\"TIPO_ORIGEN\"] == \"Internacional\")].groupby(\"CCAA_DESTINO\")[\"GASTO\"].sum().sort_values(ascending=False).head()"
   ]
  },
  {
   "cell_type": "code",
   "execution_count": 265,
   "id": "895a3fd6-137a-4ea0-b654-48925eabc664",
   "metadata": {},
   "outputs": [
    {
     "data": {
      "text/plain": [
       "CCAA_DESTINO\n",
       "País Vasco    8841938,644143767,227574824,083874917,01894467...\n",
       "Ceuta         530914,92424565,29489429,22502344,43522909,185...\n",
       "Galicia       5087195,754841505,984176236,374192668,11520380...\n",
       "La Rioja      4207155,633689597,134788193,045646755,55482550...\n",
       "Cantabria     3863833,373762142,094902663,636631977,96535474...\n",
       "Name: GASTO, dtype: object"
      ]
     },
     "execution_count": 265,
     "metadata": {},
     "output_type": "execute_result"
    }
   ],
   "source": [
    "df_gasto = datasets[\"GASTO_TPV_DESTINO_CCAA_MES_DL\"].copy()\n",
    "\n",
    "df_gasto[df_gasto[\"TIPO_ORIGEN\"].isin([\"Regional\", \"Interregional\"])].groupby(\"CCAA_DESTINO\")[\"GASTO\"].sum().sort_values(ascending=False).head()"
   ]
  },
  {
   "cell_type": "code",
   "execution_count": 256,
   "id": "ab6b3f42-f66c-4150-9a6d-01cee5a8e66d",
   "metadata": {},
   "outputs": [
    {
     "data": {
      "text/plain": [
       "TIPO_ORIGEN\n",
       "Internacional     18481196,78503190,6821139385,8251236,14293597,...\n",
       "Interregional     34039254,9210511516,0713773987,423863833,37172...\n",
       "Regional          33721507,961976147,615307096,342904776,6367096...\n",
       "Total Nacional    67760762,8812487663,6819081083,763863833,37201...\n",
       "Name: GASTO, dtype: object"
      ]
     },
     "execution_count": 256,
     "metadata": {},
     "output_type": "execute_result"
    }
   ],
   "source": [
    "df_gasto.groupby(\"TIPO_ORIGEN\")[\"GASTO\"].sum()"
=======
    "    print(\"Columns:\", df.columns.tolist())"
>>>>>>> 80882354efb06dbb2d6407a66e8bd95a88d1fcf7
   ]
  },
  {
   "cell_type": "code",
   "execution_count": null,
   "id": "ad52b2b2-e006-4fd2-b3ce-1bc310160e06",
   "metadata": {},
   "outputs": [],
   "source": []
  },
  {
   "cell_type": "code",
   "execution_count": null,
   "id": "61a29a1d-65d9-44f6-a5ce-32eb19b06c0d",
   "metadata": {},
   "outputs": [],
   "source": []
  }
 ],
 "metadata": {
  "kernelspec": {
   "display_name": "Python [conda env:base] *",
   "language": "python",
   "name": "conda-base-py"
  },
  "language_info": {
   "codemirror_mode": {
    "name": "ipython",
    "version": 3
   },
   "file_extension": ".py",
   "mimetype": "text/x-python",
   "name": "python",
   "nbconvert_exporter": "python",
   "pygments_lexer": "ipython3",
   "version": "3.12.7"
  }
 },
 "nbformat": 4,
 "nbformat_minor": 5
}
