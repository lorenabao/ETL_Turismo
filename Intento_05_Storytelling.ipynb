{
 "cells": [
  {
   "cell_type": "markdown",
   "id": "119f9a2c-3f8b-41d8-8952-71245214a3db",
   "metadata": {},
   "source": [
    "**PRESENTACIÓN DEL PROYECTO ETL_TURISMO EXPERIENCIAL (NACIONAL E INTERNACIONAL) EN ESPAÑA**"
   ]
  },
  {
   "cell_type": "markdown",
   "id": "974cde96-7c46-4076-ad19-858d28a5cd41",
   "metadata": {},
   "source": [
    "**1. Introducción / Motivación**"
   ]
  },
  {
   "cell_type": "markdown",
   "id": "626086de-fc9b-4580-b3b8-180b5e595286",
   "metadata": {},
   "source": [
    "*Título: Una España que viaja para sentir, no solo para ver*\n",
    "\n",
    "Explicación breve de por qué elegimos el tema:\n",
    "\n",
    "-El turismo en España está evolucionando hacia experiencias más auténticas y sostenibles.\n",
    "\n",
    "-Hay diferencia entre el turismo nacional y el turimo internacional.\n",
    "\n",
    "-Hay diferencia de número de turistas en cada comunidad autónoma.\n",
    "\n",
    "-Hay un cambio cultural profundo: el turista busca conexiones emocionales, culturales y sostenibles.\n",
    "\n",
    "-Queremos medir esta evolución a través de datos reales para entender mejor las tendencias.\n",
    "\n",
    "-Los datos revelan un cambio cultural profundo: el turismo evoluciona hacia una forma consciente y emocionalmente rica de viajar.\n",
    "\n",
    "> https://viajar.elperiodico.com/ideas/Mastercard-nueva-clase-viajes/index.html\n",
    "\n",
    "> https://www.mastercard.com/global/en/business/governments/tourism/spanish-whitepaper.html"
   ]
  },
  {
   "cell_type": "markdown",
   "id": "57fa79bb-0974-4bf4-bba9-556424d0aaee",
   "metadata": {},
   "source": [
    "**2. Alcance del proyecto**"
   ]
  },
  {
   "cell_type": "markdown",
   "id": "d80669db-1a88-4cbd-8706-0a028981f830",
   "metadata": {},
   "source": [
    "*Objetivo general:*\n",
    "\n",
    "Analizar con datos si está emergiendo un turismo más nacional o interneacional. Y saber si ese turismo está basado en experiencias auténticas y sostenibles.\n",
    "\n",
    "*Preguntas clave:*\n",
    "\n",
    "-¿Qué tipos de experiencias atraen más (eventos, naturaleza, cultura, gastronomía, bienestar)?\n",
    "\n",
    "-¿Están los turistas dispuestos a pagar más por opciones sostenibles y auténticas?\n",
    "\n",
    "-¿Cómo se compara el turismo internacional vs. nacional en comunidades autónomas y en gasto según comunidades?\n",
    "\n",
    "*Limitaciones:*\n",
    "\n",
    "-Datos disponibles y fuentes (API de DATAESTUR).\n",
    "\n",
    "-Alcance temporal (años analizados).\n",
    "\n",
    "-No se carga en base de datos, sino en csv, xlsx y DataFrames para análisis."
   ]
  },
  {
   "cell_type": "markdown",
   "id": "68c9123b-4ce5-43ad-82c7-764677670b00",
   "metadata": {},
   "source": [
    "**3. Herramientas y tecnologías usadas**"
   ]
  },
  {
   "cell_type": "markdown",
   "id": "51729622-19be-473c-af12-86bd022e759f",
   "metadata": {},
   "source": [
    "-Python (pandas, NumPy) para extracción, transformación y carga (ETL).\n",
    "\n",
    "-Visualización con matplotlib y seaborn.\n",
    "\n",
    "-Uso de API DATAESTUR para extracción automatizada de datos turísticos.\n",
    "\n",
    "-Desarrollo de funciones reutilizables para automatizar extracción y limpieza."
   ]
  },
  {
   "cell_type": "markdown",
   "id": "4abdfd1e-1041-4934-975b-2eaa67d3464d",
   "metadata": {},
   "source": [
    "**4. Desafíos y cómo se resolvieron**"
   ]
  },
  {
   "cell_type": "markdown",
   "id": "63e7b104-e7c5-4c35-a128-fa4451a092ff",
   "metadata": {},
   "source": [
    "*Extracción:*\n",
    "\n",
    "-Automatizar extracción con distintos parámetros.\n",
    "\n",
    "-Manejo de diferentes formatos (csv, Excel).\n",
    "\n",
    "*Transformación:*\n",
    "\n",
    "-Limpieza y normalización de datos (nombres de CCAA, tipos de datos numéricos).\n",
    "\n",
    "-Unificación de datasets distintos (turismo internacional, nacional, gasto).\n",
    "\n",
    "*Visualización:*\n",
    "\n",
    "-Selección de datos relevantes.\n",
    "\n",
    "-Simplificación para comunicar bien la evolución y diferencias entre comunidades.\n",
    "\n",
    "-Uso de funciones para evitar código repetido."
   ]
  },
  {
   "cell_type": "markdown",
   "id": "e8d30263-efc4-4ee0-9b9e-94ad6c9a4dba",
   "metadata": {},
   "source": [
    "**5. Resultados y visualizaciones**"
   ]
  },
  {
   "cell_type": "markdown",
   "id": "e6b7ffe9-fe2c-47c9-97a7-e45c05914362",
   "metadata": {},
   "source": [
    "-Mostrar gráficos clave con resultados:\n",
    "\n",
    "-Interpretación breve de cada gráfico:\n",
    "\n",
    "-Qué se observa, tendencias y posibles explicaciones."
   ]
  },
  {
   "cell_type": "markdown",
   "id": "e79b2ee2-bada-4361-ba11-bb6b6a372636",
   "metadata": {},
   "source": [
    "-Distribución del gasto turístico por tipo de experiencia."
   ]
  },
  {
   "cell_type": "code",
   "execution_count": null,
   "id": "3121ff6c-dc21-4e5f-b363-611a9fa71ed3",
   "metadata": {},
   "outputs": [],
   "source": []
  },
  {
   "cell_type": "markdown",
   "id": "683a66fb-e21f-4df3-bde0-978ff728a89f",
   "metadata": {},
   "source": [
    "-Comunidades que destacan por turismo experiencial y sostenible."
   ]
  },
  {
   "cell_type": "markdown",
   "id": "d779a895-201d-4d36-a1cc-445cfdd4dcd0",
   "metadata": {},
   "source": [
    "![Grafico de gasto](data/grafico1.png)"
   ]
  },
  {
   "cell_type": "markdown",
   "id": "b617e00c-73c7-4074-b2a1-e2ae2d0711dc",
   "metadata": {},
   "source": [
    "-Top 5 comunidades con más turistas internacionales y nacionales."
   ]
  },
  {
   "cell_type": "markdown",
   "id": "aafa30d6-5985-4423-a528-df42f9c2c3be",
   "metadata": {},
   "source": [
    "![Grafico de gasto](data/grafico.png)"
   ]
  },
  {
   "cell_type": "markdown",
   "id": "ebc44e04-6448-4cbe-bad2-f7f5a1f397d0",
   "metadata": {},
   "source": [
    "-Comparación del gasto total entre comunidades."
   ]
  },
  {
   "cell_type": "markdown",
   "id": "7ab6b82a-af0f-42b6-99e2-5a4e04f1c527",
   "metadata": {},
   "source": [
    "![Grafico de gasto](data/grafico2.png)"
   ]
  },
  {
   "cell_type": "markdown",
   "id": "378cd659-3fa6-4ea4-bebb-8725a97f992a",
   "metadata": {},
   "source": [
    "- Diferencia entre turismo nacional e internacional"
   ]
  },
  {
   "cell_type": "markdown",
   "id": "10f75696-4ad8-427e-a76c-a74dcd69a7bb",
   "metadata": {},
   "source": []
  },
  {
   "cell_type": "markdown",
   "id": "91c8b52d-b7ab-4385-86c6-cee16a246866",
   "metadata": {},
   "source": [
    "En estos gráficos se puede observar como Andalucía es el destino con mayor número de turistas, aunque Cataluña le supera con respecto a gasto turístico a pesar de tener un menor número de turistas. \n",
    "\n",
    "El número de turismo nacional es mucho mayor que el turismo internacional entre los años 2019 y 2025.\n",
    "\n",
    "También se puede ver como duratne los años de Covid hubo mucho menos gasto en todas las Comunidades Autónomas y como a partir del 2022 empezó a crecer, siendo el 2024 el año con más gasto turista a nivel general."
   ]
  },
  {
   "cell_type": "markdown",
   "id": "66d9647a-7e52-4ff6-809f-e825ce10d129",
   "metadata": {},
   "source": [
    "**6. Esquema de lo que ha sido el proyecto**"
   ]
  },
  {
   "cell_type": "markdown",
   "id": "bf714152-be57-4479-bcce-a4e816f20ddb",
   "metadata": {},
   "source": [
    "1. Extracción\n",
    "-Descargar y cargar datasets principales:\n",
    "-Guardar datos crudos para reproducibilidad\n",
    "\n",
    "2. Transformación\n",
    "-Limpieza de datos\n",
    "-Corregir nombres\n",
    "-Manejar valores nulos\n",
    "-Formatear tipos de datos (numéricos, fechas)\n",
    "\n",
    "Agrupación y resumen:\n",
    "-Sumar por año y CCAA\n",
    "-Generar variables útiles\n",
    "\n",
    "Normalización y estandarización:\n",
    "-Unificar formatos de nombres y unidades\n",
    "-Guardar datasets/dataframes transformados\n",
    "\n",
    "3. Carga\n",
    "-Guardar los datasets limpios y transformados en archivos nuevos .csv o .xlsx\n",
    "-Preparar variables y dataframes para análisis y visualización\n",
    "\n",
    "4. Análisis y Visualización\n",
    "-Gráficos clave\n",
    "-Guardar gráficos para mostrar en presentaciones o informes\n",
    "-Interpretar resultados"
   ]
  },
  {
   "cell_type": "markdown",
   "id": "9bff76c4-a58b-4f38-b8af-889fbeece6a2",
   "metadata": {},
   "source": [
    "**7. Conclusiones**"
   ]
  },
  {
   "cell_type": "markdown",
   "id": "89274bc3-7bee-4fcb-a5ac-04b08b0514e9",
   "metadata": {},
   "source": [
    "-El turismo en España muestra señales claras de evolucionar hacia experiencias más auténticas y sostenibles.\n",
    "\n",
    "-Diferencias notables entre turismo nacional e internacional.\n",
    "\n",
    "-Algunas comunidades se posicionan como destinos “experienciales” con mayor gasto y duración.\n",
    "\n",
    "-Importancia de continuar recopilando y analizando datos para apoyar decisiones de políticas turísticas."
   ]
  },
  {
   "cell_type": "code",
   "execution_count": null,
   "id": "27431190-6eae-4da5-a912-3dcd2f50a1cc",
   "metadata": {},
   "outputs": [],
   "source": []
  },
  {
   "cell_type": "code",
   "execution_count": null,
   "id": "cbf968a1-b275-4b03-9ce7-3550eb085d3b",
   "metadata": {},
   "outputs": [],
   "source": []
  },
  {
   "cell_type": "code",
   "execution_count": null,
   "id": "bbfeaa9a-fa01-4a4e-91ef-f7c3cc1c4b14",
   "metadata": {},
   "outputs": [],
   "source": []
  },
  {
   "cell_type": "code",
   "execution_count": null,
   "id": "825a9cb7-953c-4fc0-8e01-a312ad5b97e6",
   "metadata": {},
   "outputs": [],
   "source": []
  },
  {
   "cell_type": "code",
   "execution_count": null,
   "id": "d5ac1975-2946-4b06-9382-30eba60e37ff",
   "metadata": {},
   "outputs": [],
   "source": []
  },
  {
   "cell_type": "markdown",
   "id": "2020243d-de25-44c9-aab0-cb706c51ac94",
   "metadata": {},
   "source": []
  }
 ],
 "metadata": {
  "kernelspec": {
   "display_name": "Python [conda env:base] *",
   "language": "python",
   "name": "conda-base-py"
  },
  "language_info": {
   "codemirror_mode": {
    "name": "ipython",
    "version": 3
   },
   "file_extension": ".py",
   "mimetype": "text/x-python",
   "name": "python",
   "nbconvert_exporter": "python",
   "pygments_lexer": "ipython3",
   "version": "3.12.7"
  }
 },
 "nbformat": 4,
 "nbformat_minor": 5
}
