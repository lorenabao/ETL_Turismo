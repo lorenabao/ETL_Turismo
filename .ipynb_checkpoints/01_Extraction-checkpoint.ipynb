{
 "cells": [
  {
   "cell_type": "code",
   "execution_count": 3,
   "id": "474a2cd8-939d-4de9-9ee0-a58816fb6ffa",
   "metadata": {},
   "outputs": [],
   "source": [
    "import requests\n",
    "import pandas as pd"
   ]
  },
  {
   "cell_type": "code",
   "execution_count": null,
   "id": "8e21c215-804e-4c1c-a1c9-f18cf98baf75",
   "metadata": {},
   "outputs": [],
   "source": [
    "# https://www.dataestur.es/en/apidata/"
   ]
  },
  {
   "cell_type": "code",
   "execution_count": null,
   "id": "b487842e-19f6-49a5-a207-3216ffebdf02",
   "metadata": {},
   "outputs": [],
   "source": []
  }
 ],
 "metadata": {
  "kernelspec": {
   "display_name": "Python 3 (ipykernel)",
   "language": "python",
   "name": "python3"
  },
  "language_info": {
   "codemirror_mode": {
    "name": "ipython",
    "version": 3
   },
   "file_extension": ".py",
   "mimetype": "text/x-python",
   "name": "python",
   "nbconvert_exporter": "python",
   "pygments_lexer": "ipython3",
   "version": "3.13.5"
  }
 },
 "nbformat": 4,
 "nbformat_minor": 5
}
