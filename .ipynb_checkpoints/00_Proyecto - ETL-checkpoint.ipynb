{
 "cells": [
  {
   "cell_type": "markdown",
   "id": "c3982e33-741d-47a4-8d65-5e3709ca3c7a",
   "metadata": {},
   "source": [
    "## Proyecto - ETL\n",
    "\n",
    "En programación, extraer, transformar, cargar (**Extraction**, **Transform**, **Load** - ETL) es un proceso de tres fases en el que los datos se extraen, transforman y cargan en un contenedor de datos (Bases de Datos, csv, spreadsheets…). Los datos se pueden recopilar de una o más fuentes y también se pueden enviar a uno o más destinos.\n",
    "\n",
    "Para este proyecto vamos a realizar las 3 fases de este proceso, usando Python y todas las herramientas que hemos visto. Además vamos a agregar dos partes extras: **Visualization** y **Storytelling**.\n",
    "\n",
    "El tema o tópico del proyecto lo elige el equipo y se recomienda que sea un tema en la que se tenga algo de conocimiento o interés.\n",
    "\n",
    "---\n",
    "\n",
    "### 01. Extraction\n",
    "\n",
    "Para la extracción de datos vamos a utilizar una API de tu elección.\n",
    "\n",
    "**El principal objetivo de esta parte es**:\n",
    "\n",
    "- Automatización de extracción de datos.\n",
    "\n",
    "Para la automatización debemos hacer un código reutilizable (o función) que pueda ser utilizado para extraer información de la misma fuente y, si aplica, hacer la misma extracción usando diferentes parámetros de búsqueda.\n",
    "\n",
    "Esta parte puede ser la que tome más tiempo dependiendo de la escala (o alcance) a la que queramos llevar el proyecto o el número de fuentes de las cuales queremos extraer datos.\n",
    "\n",
    "---\n",
    "\n",
    "### 02. Transform\n",
    "\n",
    "Para la transformación o manipulación de datos vamos a usar principalmente **pandas** y **NumPy**.\n",
    "\n",
    "**Los objetivos principales de esta parte son**:\n",
    "\n",
    "- Limpieza de datos.\n",
    "- Estructuración de datos.\n",
    "- Creación de nuevas variables (si aplica). \n",
    "- Automatización de transformación.\n",
    "\n",
    "Al igual que la parte anterior, el código debe ser reutilizable para que se pueda aplicar a todos los casos cada vez que se extraiga nueva información.\n",
    "\n",
    "Al finalizar esta parte debemos tener un DataFrame con la variables de interés que queremos visualizar, cuidando el tipo de dato de cada variable.\n",
    "\n",
    "---\n",
    "\n",
    "### 03. Load\n",
    "\n",
    "Para este proyecto no vamos a cargar los datos a ninguna plataforma o base da datos.\n",
    "\n",
    "---\n",
    "\n",
    "### 04. Visualization\n",
    "\n",
    "Para esta parte extra vamos a utilizar las herramientas de visualizaciones que hemos visto en clase:\n",
    "\n",
    "- matplotlib\n",
    "- seaborn\n",
    "\n",
    "**Los principales objetivos de esta parte son**:\n",
    "\n",
    "- Generar gráficos de interés usando los datos extraídos de la API.\n",
    "\n",
    "Las herramientas y gráficas van a depender de los datos extraídos y de lo que queramos representar.\n",
    "\n",
    "---\n",
    "\n",
    "### 05. Storytelling\n",
    "\n",
    "Como último vamos a hacer una pequeña presentación de principio a fin sobre el proyecto, esta presentación puede incluir:\n",
    "\n",
    "- Motivaciones del proyecto.\n",
    "- Alcance del proyecto.\n",
    "- Herramientas o tecnologías usadas.\n",
    "- Desafíos en cada parte del proceso.\n",
    "- Resolución de cada desafío o problema.\n",
    "- Un esquema de lo que fue el proyecto.\n",
    "- Visualizaciones y resultados.\n",
    "\n",
    "**Todos los miembros del equipo deben participar en la presentación, no es obligatorio hacer una presentación o material audiovisual, la presentación será de 10 minutos máximo. Esta parte no será evaluada.**"
   ]
  },
  {
   "cell_type": "markdown",
   "id": "5e5c2a27-bd2a-49ff-a5f9-a1cf6cbdafce",
   "metadata": {},
   "source": [
    "### Recomendaciones\n",
    "\n",
    "- Hacer un notebook para cada etapa.\n",
    "- Dejar comentarios en los bloques de código.\n",
    "- Usar markdown para explicar brevemente las visualizaciones y/o conclusiones."
   ]
  },
  {
   "cell_type": "code",
   "execution_count": null,
   "id": "ea9823fc-8fed-4f0a-9b9a-607f288c1a1b",
   "metadata": {},
   "outputs": [],
   "source": [
    "##############################################################################################################################"
   ]
  }
 ],
 "metadata": {
  "kernelspec": {
   "display_name": "Python 3 (ipykernel)",
   "language": "python",
   "name": "python3"
  },
  "language_info": {
   "codemirror_mode": {
    "name": "ipython",
    "version": 3
   },
   "file_extension": ".py",
   "mimetype": "text/x-python",
   "name": "python",
   "nbconvert_exporter": "python",
   "pygments_lexer": "ipython3",
   "version": "3.13.5"
  }
 },
 "nbformat": 4,
 "nbformat_minor": 5
}
