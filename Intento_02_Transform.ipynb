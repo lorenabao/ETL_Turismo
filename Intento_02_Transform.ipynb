{
 "cells": [
  {
   "cell_type": "code",
   "execution_count": 92,
   "id": "9778c3c0-5af1-41df-bd6d-bf553f954f0d",
   "metadata": {},
   "outputs": [],
   "source": [
    "import pandas as pd\n",
    "import os"
   ]
  },
  {
   "cell_type": "code",
   "execution_count": 93,
   "id": "0c7406e3-043c-4b57-b28e-4b0de9da5514",
   "metadata": {},
   "outputs": [],
   "source": [
    "# CARGA DE DATOS Y VISUALIZACIÓN DE NOMBRE DE COLUMNAS\n",
    "\n",
    "df_frontur = pd.read_excel(\"../data/FRONTUR_DL.xlsx\")\n",
    "df_nacional = pd.read_excel(\"../data/TURISMO_INTERNO_PROV_CCAA_DL.xlsx\")\n",
    "df_gasto = pd.read_excel(\"../data/GASTO_TPV_DESTINO_CCAA_MES_DL.xlsx\")"
   ]
  },
  {
   "cell_type": "code",
   "execution_count": 107,
   "id": "172d2d62-1da1-4afb-aef5-06832c9f899e",
   "metadata": {},
   "outputs": [
    {
     "name": "stdout",
     "output_type": "stream",
     "text": [
      "Index(['Unnamed: 0', 'AÑO', 'MES', 'PAIS_RESIDENCIA', 'TIPO_VISITANTE',\n",
      "       'CCAA_DESTINO', 'VISITANTES'],\n",
      "      dtype='object')\n"
     ]
    }
   ],
   "source": [
    "print(df_frontur.columns)"
   ]
  },
  {
   "cell_type": "code",
   "execution_count": 108,
   "id": "2f20566d-5f29-4144-8cfb-ff7352a9a9bc",
   "metadata": {
    "scrolled": true
   },
   "outputs": [
    {
     "name": "stdout",
     "output_type": "stream",
     "text": [
      "Index(['Unnamed: 0', 'AÑO', 'MES', 'CCAA_ORIGEN', 'PROVINCIA_ORIGEN',\n",
      "       'CCAA_DESTINO', 'PROVINCIA_DESTINO', 'TURISTAS', 'PERNOCTACIONES',\n",
      "       'ESTANCIA_MEDIA'],\n",
      "      dtype='object')\n"
     ]
    }
   ],
   "source": [
    "print(df_nacional.columns)"
   ]
  },
  {
   "cell_type": "code",
   "execution_count": 109,
   "id": "2bd51113-adcf-4c95-a243-cb64bba8744d",
   "metadata": {
    "scrolled": true
   },
   "outputs": [
    {
     "name": "stdout",
     "output_type": "stream",
     "text": [
      "Index(['Unnamed: 0', 'AÑO', 'MES', 'CCAA_DESTINO', 'TIPO_ORIGEN', 'GASTO',\n",
      "       'TRANSACCION'],\n",
      "      dtype='object')\n"
     ]
    }
   ],
   "source": [
    "print(df_gasto.columns)"
   ]
  },
  {
   "cell_type": "code",
   "execution_count": 97,
   "id": "dbd502b4-f128-4a06-b83a-77af17cc6dcf",
   "metadata": {},
   "outputs": [],
   "source": [
    "# LIMPIEZA DE DATOS\n",
    "\n",
    "def limpieza(df):\n",
    "    df = df.dropna().copy()\n",
    "    df.columns = df.columns.str.strip()\n",
    "\n",
    "    for col in df.select_dtypes(include=\"object\").columns:\n",
    "        df.loc[:, col] = df[col].str.strip()\n",
    "\n",
    "    if \"AÑO\" in df.columns:\n",
    "        df.loc[:, \"AÑO\"] = df[\"AÑO\"].astype(int)\n",
    "    \n",
    "    return df\n",
    "\n",
    "df_frontur = limpieza(df_frontur)\n",
    "df_nacional = limpieza(df_nacional)\n",
    "df_gasto = limpieza(df_gasto)"
   ]
  },
  {
   "cell_type": "code",
   "execution_count": 98,
   "id": "f3cc11f3-3d13-4c67-a1b3-03fd42d3147c",
   "metadata": {},
   "outputs": [],
   "source": [
    "# FUNCIONES REUTILIZABLES\n",
    "\n",
    "def transformar_turismo_internacional(df):\n",
    "    columnas_renombrar = {\n",
    "        \"AÑO\": \"Año\",\n",
    "        \"CCAA_DESTINO\": \"CCAA\",\n",
    "        \"VISITANTES\": \"Turistas_Internacionales\"}\n",
    "    df = df.rename(columns={k: v for k, v in columnas_renombrar.items() if k in df.columns})\n",
    "    return df.groupby([\"Año\", \"CCAA\"], as_index=False)[\"Turistas_Internacionales\"].sum()"
   ]
  },
  {
   "cell_type": "code",
   "execution_count": 99,
   "id": "5aeffafc-16e9-4300-b543-61bde2b0a7db",
   "metadata": {},
   "outputs": [],
   "source": [
    "def transformar_turismo_nacional(df):\n",
    "    columnas_renombrar = {\n",
    "        \"AÑO\": \"Año\",\n",
    "        \"CCAA_DESTINO\": \"CCAA\",\n",
    "        \"TURISTAS\": \"Turistas_Nacionales\" }\n",
    "    df = df.rename(columns={k: v for k, v in columnas_renombrar.items() if k in df.columns})\n",
    "    return df.groupby([\"Año\", \"CCAA\"], as_index=False)[\"Turistas_Nacionales\"].sum()"
   ]
  },
  {
   "cell_type": "code",
   "execution_count": 100,
   "id": "8a44320f-0778-4fa0-939d-ed785b6bbb1f",
   "metadata": {},
   "outputs": [],
   "source": [
    "def transformar_gasto(df):\n",
    "    columnas_renombrar = {\n",
    "        \"AÑO\": \"Año\",\n",
    "        \"CCAA_DESTINO\": \"CCAA\",\n",
    "        \"GASTO\": \"Gasto\" }\n",
    "    df = df.rename(columns={k: v for k, v in columnas_renombrar.items() if k in df.columns})\n",
    "    return df.groupby([\"Año\", \"CCAA\"], as_index=False)[\"Gasto\"].sum()"
   ]
  },
  {
   "cell_type": "code",
   "execution_count": 101,
   "id": "24b77bfc-cac2-44ae-b44a-06253e29c462",
   "metadata": {},
   "outputs": [],
   "source": [
    "# TRANSFORMACIÓN DE DATOS\n",
    "\n",
    "df_frontur_grouped = transformar_turismo_internacional(df_frontur)\n",
    "df_nacional_grouped = transformar_turismo_nacional(df_nacional)\n",
    "df_gasto_grouped = transformar_gasto(df_gasto)"
   ]
  },
  {
   "cell_type": "code",
   "execution_count": 102,
   "id": "809c59d7-0c4d-404f-8dae-e31e681cd918",
   "metadata": {},
   "outputs": [],
   "source": [
    "# UNIONES DE DATOS\n",
    "\n",
    "df_internacional_gasto = pd.merge(df_frontur_grouped, df_gasto_grouped, on=[\"Año\", \"CCAA\"], how=\"inner\")\n",
    "df_nacional_gasto = pd.merge(df_nacional_grouped, df_gasto_grouped, on=[\"Año\", \"CCAA\"], how=\"inner\")"
   ]
  },
  {
   "cell_type": "code",
   "execution_count": 105,
   "id": "3d16d1db-95f1-40c4-8ffa-eeedb9a7fa13",
   "metadata": {},
   "outputs": [
    {
     "name": "stdout",
     "output_type": "stream",
     "text": [
      "Turismo internacional + gasto:\n",
      "    Año       CCAA  Turistas_Internacionales  \\\n",
      "0  2019  Andalucía                  14652617   \n",
      "1  2019     Aragón                    853190   \n",
      "\n",
      "                                               Gasto  \n",
      "0  18481196,7834039254,9233721507,9667760762,8818...  \n",
      "1  503190,6810511516,071976147,6112487663,6852437...  \n"
     ]
    }
   ],
   "source": [
    "# RESULTADOS\n",
    "\n",
    "print(\"Turismo internacional + gasto:\")\n",
    "print(df_internacional_gasto.head(2))"
   ]
  },
  {
   "cell_type": "code",
   "execution_count": 106,
   "id": "a4bede78-9f27-4ac8-838d-357bf2aadbe8",
   "metadata": {},
   "outputs": [
    {
     "name": "stdout",
     "output_type": "stream",
     "text": [
      "Turismo nacional + gasto:\n",
      "    Año       CCAA                                Turistas_Nacionales  \\\n",
      "0  2019  Andalucía  8910,03468,049626,02801,09247,020363,06920,083...   \n",
      "1  2019     Aragón  666,0515,0975,0513,0303,01139,0614,0478,01326,...   \n",
      "\n",
      "                                               Gasto  \n",
      "0  18481196,7834039254,9233721507,9667760762,8818...  \n",
      "1  503190,6810511516,071976147,6112487663,6852437...  \n"
     ]
    }
   ],
   "source": [
    "print(\"Turismo nacional + gasto:\")\n",
    "print(df_nacional_gasto.head(2))"
   ]
  },
  {
   "cell_type": "code",
   "execution_count": null,
   "id": "e8d51951-a32e-4fe5-ab3d-eb079f1f0012",
   "metadata": {},
   "outputs": [],
   "source": []
  },
  {
   "cell_type": "code",
   "execution_count": null,
   "id": "e0e88d97-602a-41de-97c0-a387603951c0",
   "metadata": {},
   "outputs": [],
   "source": []
  }
 ],
 "metadata": {
  "kernelspec": {
   "display_name": "Python [conda env:base] *",
   "language": "python",
   "name": "conda-base-py"
  },
  "language_info": {
   "codemirror_mode": {
    "name": "ipython",
    "version": 3
   },
   "file_extension": ".py",
   "mimetype": "text/x-python",
   "name": "python",
   "nbconvert_exporter": "python",
   "pygments_lexer": "ipython3",
   "version": "3.12.7"
  }
 },
 "nbformat": 4,
 "nbformat_minor": 5
}
