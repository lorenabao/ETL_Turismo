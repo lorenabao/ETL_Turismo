{
 "cells": [
  {
   "cell_type": "code",
   "execution_count": null,
   "id": "734da2d6-6fac-472b-8996-9d76069485cd",
   "metadata": {},
   "outputs": [],
   "source": [
    "# Propuesta de proyecto:"
   ]
  },
  {
   "cell_type": "markdown",
   "id": "9085dc52-57bf-4510-b48d-f0919a9bf50b",
   "metadata": {},
   "source": [
    "# Una España que viaja para sentir, no solo para ver\n",
    "¿Está emergiendo un turismo en España basado en experiencias auténticas y sostenibles, y cómo podemos medirlo con datos?\n",
    "\n",
    "El nuevo turista valora:\n",
    "\n",
    "1. Experiencias auténticas\n",
    "\n",
    "2. Conexiones culturales\n",
    "\n",
    "3. Duraciones más largas\n",
    "\n",
    "4. Sostenibilidad\n",
    "\n",
    "Los datos revelan un cambio cultural profundo: el turismo evoluciona hacia una forma consciente y emocionalmente rica de viajar.\n",
    "> https://viajar.elperiodico.com/ideas/Mastercard-nueva-clase-viajes/index.html\n",
    "\n",
    "> https://www.mastercard.com/global/en/business/governments/tourism/spanish-whitepaper.html\n",
    "\n",
    "## Preguntas que buscamos responder\n",
    "- ¿Crece el turismo de experiencias vs. turismo tradicional?\n",
    "\n",
    "- ¿La duración del viaje ha aumentado frente a antes de la pandemia?\n",
    "\n",
    "- ¿Qué tipos de experiencias atraen más (eventos, naturaleza, cultura, gastronomía, bienestar)?\n",
    "\n",
    "- ¿Están los turistas dispuestos a pagar más por opciones sostenibles y auténticas?\n",
    "\n",
    "- ¿Cómo se mueve el turismo internacional vs. nacional en comunidades más “experimentales”?\n",
    "\n",
    "## Tendencias a medir:\n",
    "- Experiencial vs tradicional: crecimiento de viajes orientados a eventos, cultura, naturaleza.\n",
    "\n",
    "- Duración del viaje: identificación de viajes más largos.\n",
    "\n",
    "- Movilidad post‑turismo masivo: destinos no saturados.\n",
    "\n",
    "- Segmentación sostenible: gasto diferencial.\n",
    "\n",
    "- Turista nómada: temporalidad y origen de visitantes."
   ]
  },
  {
   "cell_type": "code",
   "execution_count": null,
   "id": "24037c60-2ae3-4f59-9197-7f6fddbe6fa1",
   "metadata": {},
   "outputs": [],
   "source": [
    "# Propuesta de storytelling"
   ]
  },
  {
   "cell_type": "markdown",
   "id": "567618af-1015-4361-8f1b-af2426f3ed8a",
   "metadata": {},
   "source": [
    "# 01. Inicio: Antes del cambio\n",
    "> Durante décadas, el turismo en España fue sinónimo de sol, playa y masificación. Viajes rápidos, escapadas de fin de semana, consumo intensivo.\n",
    "\n",
    "*Breve introducción modelo turístico tradicional*"
   ]
  },
  {
   "cell_type": "markdown",
   "id": "0f114456-f09e-45ee-9152-af42e72d02b3",
   "metadata": {},
   "source": [
    "# 02. Break: Momento del cambio\n",
    "> ¿Existen más personas alargan sus estancias, buscan zonas menos saturadas, y viajan por motivos que van más allá del ocio? Salud, descanso, reconexión.\n",
    "\n",
    "¿Existe un novelo modelo/tipo de viaje?"
   ]
  },
  {
   "cell_type": "markdown",
   "id": "0f2bb45f-6ae4-4b9a-96ea-7c5b94a52517",
   "metadata": {},
   "source": [
    "# 03. Exploración: Qué nos cuentan los datos\n",
    "¿Existen patrones? Aquí preguntas que nos planteamos"
   ]
  },
  {
   "cell_type": "markdown",
   "id": "f15b9777-fcf4-4888-8659-37eea323c5ba",
   "metadata": {},
   "source": [
    "# 04. Insight: Qué conclusiones sacamos"
   ]
  },
  {
   "cell_type": "markdown",
   "id": "16387c83-c8a9-4208-bb63-ca7bbe99620d",
   "metadata": {},
   "source": [
    "# 05. Cierre: Cómo podemos usar con las conclusiones que sacamos\n",
    "Incluir ideas para marcas, gobiernos, marketing, etc. Qué aportamos. "
   ]
  },
  {
   "cell_type": "code",
   "execution_count": null,
   "id": "ccda96a4-a550-4bff-afad-a3e282854255",
   "metadata": {},
   "outputs": [],
   "source": []
  }
 ],
 "metadata": {
  "kernelspec": {
   "display_name": "Python [conda env:base] *",
   "language": "python",
   "name": "conda-base-py"
  },
  "language_info": {
   "codemirror_mode": {
    "name": "ipython",
    "version": 3
   },
   "file_extension": ".py",
   "mimetype": "text/x-python",
   "name": "python",
   "nbconvert_exporter": "python",
   "pygments_lexer": "ipython3",
   "version": "3.12.7"
  }
 },
 "nbformat": 4,
 "nbformat_minor": 5
}
