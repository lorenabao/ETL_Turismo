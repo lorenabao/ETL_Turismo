{
 "cells": [
  {
   "cell_type": "code",
   "execution_count": null,
   "id": "734da2d6-6fac-472b-8996-9d76069485cd",
   "metadata": {},
   "outputs": [],
   "source": [
    "# Propuesta de proyecto:"
   ]
  },
  {
   "attachments": {},
   "cell_type": "markdown",
   "id": "22e883d1-e24e-408a-8764-16056879b207",
   "metadata": {
    "jp-MarkdownHeadingCollapsed": true
   },
   "source": [
    "# Una España que viaja para sentir, no solo para ver\n",
    "¿Está emergiendo un turismo en España basado en experiencias auténticas y sostenibles, y cómo podemos medirlo con datos?\n",
    "\n",
    "El nuevo turista valora:\n",
    "\n",
    "1. Experiencias auténticas\n",
    "\n",
    "2. Conexiones culturales\n",
    "\n",
    "3. Duraciones más largas\n",
    "\n",
    "4. Sostenibilidad\n",
    "\n",
    "Los datos revelan un cambio cultural profundo: el turismo evoluciona hacia una forma consciente y emocionalmente rica de viajar.\n",
    "> https://viajar.elperiodico.com/ideas/Mastercard-nueva-clase-viajes/index.html\n",
    "\n",
    "> https://www.mastercard.com/global/en/business/governments/tourism/spanish-whitepaper.html\n",
    "\n",
    "## Preguntas que buscamos responder\n",
    "- ¿Crece el turismo de experiencias vs. turismo tradicional?\n",
    "- ¿La duración del viaje ha aumentado frente a antes de la pandemia?\n",
    "- ¿Qué tipos de experiencias atraen más (eventos, naturaleza, cultura, gastronomía, bienestar)?\n",
    "- ¿Cómo se mueve el turismo internacional vs. nacional en las comunidades autónomas?\n",
    "  ![Grafico de gasto](data/grafico1.png)\n",
    "  ![Grafico de gasto](data/grafico.png)\n",
    "  \n",
    "En estos gráficos se puede observar como Andalucía es el destino con mayor número de turistas, aunque Cataluña le supera con respecto a gasto turístico a pesar de tener un menor número de turistas. La mayor parte de este turismo es nacional.\n",
    "\n",
    "También se puede ver como durante los años de Covid hubo mucho menos gasto en todas las Comunidades Autónomas y como a partir del 2022 empezó a crecer, siendo el 2024 el año con más gasto turista a nivel general.\n",
    "\n",
    "### ¿Están los turistas dispuestos a pagar más por opciones sostenibles y auténticas?\n",
    "> ¿Qué se entiende por sostenible y auténtico?\n",
    "\n",
    "1. Alojamientos rurales (casas rurales, campings, viviendas de uso turístico)\n",
    "2. Motivación del viaje: naturaleza, cultura, gastronomía local\n",
    "3. Destino: zonas rurales o poco masificadas, parques naturales\n",
    "4. Duración del viaje: estancias más largas suelen asociarse a turismo más consciente\n",
    "\n",
    "| Criterio            | Indicador                             | Dato                            |\n",
    "| ------------------- | ------------------------------------- | ------------------------------- |\n",
    "| Destino auténtico   | Zonas de interior o poco masificadas  | `CCAA_DESTINO` ≠ costa clásica  |\n",
    "| Tipo de alojamiento | Turismo rural, camping, casas rurales | en datos de ocupación turística |\n",
    "| Motivación          | Cultura, naturaleza, gastronomía      | `TIPO_VIAJE`, `TIPO_VISITANTE`  |\n",
    "| Duración            | Estancias largas = turismo consciente | `DURACION`, `ESTANCIA_MEDIA`    |\n",
    "| Gasto               | Gasto diario/persona mayor            | `GASTO_DIARIO`, `GASTO_TOTAL`   |\n",
    "\n",
    "## Tendencias a medir:\n",
    "- Experiencial vs tradicional: crecimiento de viajes orientados a eventos, cultura, naturaleza.\n",
    "\n",
    "- Duración del viaje: identificación de viajes más largos.\n",
    "\n",
    "- Movilidad post‑turismo masivo: destinos no saturados.\n",
    "\n",
    "- Segmentación sostenible: gasto diferencial.\n",
    "\n",
    "- Turista nómada: temporalidad y origen de visitantes.\n",
    "\n",
    "# Propuesta de storytelling"
   ]
  },
  {
   "cell_type": "markdown",
   "id": "567618af-1015-4361-8f1b-af2426f3ed8a",
   "metadata": {
    "jp-MarkdownHeadingCollapsed": true
   },
   "source": [
    "# 01. Inicio: Antes del cambio\n",
    "> Durante décadas, el turismo en España fue sinónimo de sol, playa y masificación. Viajes rápidos, escapadas de fin de semana, consumo intensivo.\n",
    "\n",
    "*Breve introducción modelo turístico tradicional*"
   ]
  },
  {
   "cell_type": "markdown",
   "id": "0f114456-f09e-45ee-9152-af42e72d02b3",
   "metadata": {
    "jp-MarkdownHeadingCollapsed": true
   },
   "source": [
    "# 02. Break: Momento del cambio\n",
    "> ¿Existen más personas alargan sus estancias, buscan zonas menos saturadas, y viajan por motivos que van más allá del ocio? Salud, descanso, reconexión.\n",
    "\n",
    "¿Existe un novelo modelo/tipo de viaje?"
   ]
  },
  {
   "cell_type": "markdown",
   "id": "0f2bb45f-6ae4-4b9a-96ea-7c5b94a52517",
   "metadata": {
    "jp-MarkdownHeadingCollapsed": true
   },
   "source": [
    "# 03. Exploración: Qué nos cuentan los datos\n",
    "¿Existen patrones? Aquí preguntas que nos planteamos"
   ]
  },
  {
   "cell_type": "markdown",
   "id": "f15b9777-fcf4-4888-8659-37eea323c5ba",
   "metadata": {
    "jp-MarkdownHeadingCollapsed": true
   },
   "source": [
    "# 04. Insight: Qué conclusiones sacamos"
   ]
  },
  {
   "cell_type": "markdown",
   "id": "16387c83-c8a9-4208-bb63-ca7bbe99620d",
   "metadata": {
    "jp-MarkdownHeadingCollapsed": true
   },
   "source": [
    "# 05. Cierre: Cómo podemos usar con las conclusiones que sacamos\n",
    "Incluir ideas para marcas, gobiernos, marketing, etc. Qué aportamos. "
   ]
  },
  {
   "cell_type": "code",
   "execution_count": null,
   "id": "ccda96a4-a550-4bff-afad-a3e282854255",
   "metadata": {},
   "outputs": [],
   "source": []
  }
 ],
 "metadata": {
  "kernelspec": {
   "display_name": "Python [conda env:base] *",
   "language": "python",
   "name": "conda-base-py"
  },
  "language_info": {
   "codemirror_mode": {
    "name": "ipython",
    "version": 3
   },
   "file_extension": ".py",
   "mimetype": "text/x-python",
   "name": "python",
   "nbconvert_exporter": "python",
   "pygments_lexer": "ipython3",
   "version": "3.12.7"
  }
 },
 "nbformat": 4,
 "nbformat_minor": 5
}
