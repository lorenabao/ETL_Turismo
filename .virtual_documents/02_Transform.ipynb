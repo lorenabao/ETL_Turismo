import pandas as pd
import os
import numpy as np


folder = "./data"

files = os.listdir(folder)

datasets = {file_name.replace(".xlsx", ""): pd.read_excel(os.path.join(folder, file_name)) for file_name in files}

for name, df in datasets.items():
    print(f"\n{name} loaded: {df.shape[0]} rows, {df.shape[1]} columns")
    print(df.apply(lambda col: col.unique()))


egatur_dl = datasets["EGATUR_DL"].copy()
egatur_dl["TIPO_VISITANTE_GROUP"] = egatur_dl["TIPO_VISITANTE"].apply(lambda x: "Turista" if "Turista" in x else "Excursionista")


visitantes_ccaa = (egatur_dl.groupby(["AÑO", "CCAA_DESTINO", "TIPO_VISITANTE_GROUP"]).size().reset_index(name="TOTAL"))


ccaa_tradicionales = ["Cataluña", "Andalucía", "Comunidad Valenciana", "Illes Balears", "Madrid", "Canarias"]
ccaa_alternativas = ["Galicia", "Cantabria", "Aragón", "Extremadura", "Castilla y León", "La Rioja", "Asturias", "Navarra", "País Vasco"]

def clasificar_ccaa(ccaa):
    if ccaa in ccaa_tradicionales:
        return "Tradicional"
    elif ccaa in ccaa_alternativas:
        return "Emergente"
    else:
        return "Otra"

visitantes_ccaa["TIPO_CCAA"] = visitantes_ccaa["CCAA_DESTINO"].apply(clasificar_ccaa)

visitantes_ccaa.to_csv("./exports/visitantes_ccaa.csv", index=False)


# Calcular el crecimiento de los tipo de turistas por cada tipo de CCAA(Emergente vs Tradicional)
# 1. Filtrar el tipo de visitantes y los años (???solo hasta 2022 porque a partir de ese año no existen "Excursionistas")


turistas = visitantes_ccaa[(visitantes_ccaa["TIPO_VISITANTE_GROUP"] == "Turista")]
turistas_resumen = (
    turistas.groupby(["AÑO", "TIPO_CCAA"])["TOTAL"]
    .sum()
    .reset_index()
)

turistas_pivot = turistas_resumen.pivot(
    index="AÑO",
    columns="TIPO_CCAA",
    values="TOTAL"
)

turistas_pivot


crecimiento_abs = turistas_pivot.loc[2024] - turistas_pivot.loc[2018]
crecimiento_porcentaje = ((crecimiento_abs / turistas_pivot.loc[2018]) * 100).round(2)

crecimiento_porcentaje


visitantes_ccaa_pivot = visitantes_ccaa.groupby(["AÑO", "TIPO_VISITANTE_GROUP", "TIPO_CCAA"])["TOTAL"].sum().reset_index()
visitantes_ccaa_pivot

visitantes_ccaa_pivot.to_csv("./exports/visitantes_ccaa_pivot.csv", index=False)



totales_por_ccaa = visitantes_ccaa.groupby("CCAA_DESTINO")["TOTAL"].sum().reset_index()
totales_por_ccaa.sort_values(by="TOTAL", ascending=False)


pivot_table = visitantes_ccaa_pivot.pivot_table(
    index="AÑO",
    columns=["TIPO_VISITANTE_GROUP", "TIPO_CCAA"],
    values="TOTAL"
)

pivot_table


valores = pivot_table.loc[2018:2022].values  # solo hasta 2022
columnas = pivot_table.columns

crecimiento_porcentaje = ((valores[-1] - valores[0]) / valores[0]) * 100

for i, col in enumerate(columnas):
    tipo, ccaa = col
    print(f"{tipo} en CCAA {ccaa}: {crecimiento_porcentaje[i]:.2f}%")



visitantes_ccaa_pivot.to_csv("./exports/visitantes_ccaa_pivot.csv", index=False)


# Tipos de ACTIVIDADES


actividades_ocio = datasets["ACTIVIDADES_OCIO_DL"]
actividades_ocio["TIPO_CCAA"] = actividades_ocio["CCAA"].apply(clasificar_ccaa)

actividades_ocio.to_csv("./exports/actividades_ocio.csv")


# Atracciones y Recursos Turísticos


atracciones_recursos_turisticos = datasets["ATRACCIONES_RECURSOS_TURISTICOS_DL"]

# atracciones/recursos más calmados vs más fiesta/turista

atracciones_recursos_turisticos["CATEGORIA"].unique()
atracciones_recursos_turisticos["CATEGORIA"] = atracciones_recursos_turisticos["CATEGORIA"].replace({"Comida Y Bebida": "Comida y Bebida"})

atracciones_pausadas = ["Activo Naturaleza", "Museos", "Paisaje Naturaleza"]
atracciones_fiesta = ["Activo Urbano", "Compras", "Paisaje Urbano", "Vida Nocturna"]
atracciones_neutras = ["Comida y Bebida", "Otros", "Servicios"]

atracciones_recursos_turisticos["CATEGORIA"].unique()

condiciones = [
    atracciones_recursos_turisticos["CATEGORIA"].isin(atracciones_pausadas),
    atracciones_recursos_turisticos["CATEGORIA"].isin(atracciones_fiesta),
    atracciones_recursos_turisticos["CATEGORIA"].isin(atracciones_neutras)
]

tipos = ["Turismo Pausado", "Turismo de Fiesta", "Turismo Neutro"]

atracciones_recursos_turisticos["TIPO_CATEGORIA"] = np.select(condiciones, tipos, default="Otro")

# atracciones_recursos_turisticos.drop(columns="Unnamed: 0", inplace=True)
atracciones_recursos_turisticos["TIPO_CCAA"] = atracciones_recursos_turisticos["CCAA"].apply(clasificar_ccaa)


atracciones_recursos_turisticos.to_csv("./exports/atracciones_recursos_turisticos.csv", index=False)
