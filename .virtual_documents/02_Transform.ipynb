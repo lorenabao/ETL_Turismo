import pandas as pd
import os
import numpy as np


folder = "./data"

files = os.listdir(folder)

datasets = {file_name.replace(".xlsx", ""): pd.read_excel(os.path.join(folder, file_name)) for file_name in files}

for name, df in datasets.items():
    print(f"\n{name} loaded: {df.shape[0]} rows, {df.shape[1]} columns")
    print(df.apply(lambda col: col.unique()))


datasets["EGATUR_DL"].apply(lambda col: col.unique())


# ¿Están los turistas dispuestos a pagar más por opciones sostenibles y auténticas?


datasets["CST_GASTO_CONSUMO_TURISTICO_DL"].columns.tolist()



