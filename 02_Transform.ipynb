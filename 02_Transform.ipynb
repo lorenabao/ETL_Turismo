{
 "cells": [
  {
   "cell_type": "code",
   "execution_count": 27,
   "id": "85b9f45d-57b2-441b-b764-33c4084c141d",
   "metadata": {},
   "outputs": [],
   "source": [
    "import os\n",
    "import pandas as pd"
   ]
  },
  {
   "cell_type": "code",
   "execution_count": 28,
   "id": "350082e9-a9fa-4ac1-98b3-7e6cb4600ca5",
   "metadata": {},
   "outputs": [],
   "source": [
    "# FUNCIONES REUTILIZABLES\n",
    "\n",
    "def cargar_datos(nombre_archivo):\n",
    "    ruta = os.path.join(\"./data\", nombre_archivo)\n",
    "    return pd.read_excel(ruta)"
   ]
  },
  {
   "cell_type": "code",
   "execution_count": 29,
   "id": "b35d6de0-a22e-45dc-9193-7cdceb21b5ca",
   "metadata": {},
   "outputs": [],
   "source": [
    "def limpiar(df):\n",
    "    df = df.dropna().copy()\n",
    "    df.columns = df.columns.str.strip()\n",
    "    for col in df.select_dtypes(include=\"object\").columns:\n",
    "        df[col] = df[col].str.strip()\n",
    "    if \"AÑO\" in df.columns:\n",
    "        df[\"AÑO\"] = df[\"AÑO\"].astype(int)\n",
    "    return df"
   ]
  },
  {
   "cell_type": "code",
   "execution_count": 30,
   "id": "ec52ae95-9488-4e80-8b31-9612118780cb",
   "metadata": {},
   "outputs": [],
   "source": [
    "def transformar(df, columna_valor_original, nombre_columna_nueva):\n",
    "    columnas_renombrar = {\n",
    "        \"AÑO\": \"Año\",\n",
    "        \"CCAA_DESTINO\": \"CCAA\",\n",
    "        columna_valor_original: nombre_columna_nueva}\n",
    "    df = df.rename(columns={k: v for k, v in columnas_renombrar.items() if k in df.columns})\n",
    "    return df.groupby([\"Año\", \"CCAA\"], as_index=False)[nombre_columna_nueva].sum()"
   ]
  },
  {
   "cell_type": "code",
   "execution_count": 31,
   "id": "aad1407f-7aa7-4eff-8762-e88e23e34b14",
   "metadata": {},
   "outputs": [],
   "source": [
    "# USO CON MIS DATASETS\n",
    "# 1-CARGAR\n",
    "\n",
    "df_frontur = cargar_datos(\"FRONTUR_DL.xlsx\")\n",
    "df_nacional = cargar_datos(\"TURISMO_INTERNO_PROV_CCAA_DL.xlsx\")\n",
    "df_gasto = cargar_datos(\"GASTO_TPV_DESTINO_CCAA_MES_DL.xlsx\")"
   ]
  },
  {
   "cell_type": "code",
   "execution_count": 32,
   "id": "6f6dd75b-e762-4c9d-9a22-fbc0ae7c1a7e",
   "metadata": {},
   "outputs": [],
   "source": [
    "# 2-LIMPIAR\n",
    "\n",
    "df_frontur = limpiar(df_frontur)\n",
    "df_nacional = limpiar(df_nacional)\n",
    "df_gasto = limpiar(df_gasto)"
   ]
  },
  {
   "cell_type": "code",
   "execution_count": 33,
   "id": "447fbbaf-f033-4a3e-8451-366066241566",
   "metadata": {},
   "outputs": [],
   "source": [
    "# 3-TRANSFORMAR\n",
    "\n",
    "df_frontur_transformado = transformar(df_frontur, \"VISITANTES\", \"Turistas_Internacionales\")\n",
    "df_nacional_transformado = transformar(df_nacional, \"TURISTAS\", \"Turistas_Nacionales\")\n",
    "df_gasto_transformado = transformar(df_gasto, \"GASTO\", \"Gasto\")"
   ]
  },
  {
   "cell_type": "code",
   "execution_count": 34,
   "id": "cf368d84-cd9f-4e7e-8041-2def2546cc7b",
   "metadata": {},
   "outputs": [],
   "source": [
    "# 4-UNIR\n",
    "\n",
    "df_union_internacional_gasto = pd.merge(df_frontur_transformado, df_gasto_transformado, on=[\"Año\", \"CCAA\"], how=\"inner\")\n",
    "df_union_nacional_gasto = pd.merge(df_nacional_transformado, df_gasto_transformado, on=[\"Año\", \"CCAA\"], how=\"inner\")"
   ]
  },
  {
   "cell_type": "code",
   "execution_count": 50,
   "id": "f7788ee2-a0ac-4477-b1cd-d43a66bdfe45",
   "metadata": {
    "scrolled": true
   },
   "outputs": [
    {
     "name": "stdout",
     "output_type": "stream",
     "text": [
      "COLUMNAS FRONTUR: Index(['Unnamed: 0', 'AÑO', 'MES', 'PAIS_RESIDENCIA', 'TIPO_VISITANTE',\n",
      "       'CCAA_DESTINO', 'VISITANTES'],\n",
      "      dtype='object')\n",
      "COLUMNAS NACIONAL: Index(['Unnamed: 0', 'AÑO', 'MES', 'CCAA_ORIGEN', 'PROVINCIA_ORIGEN',\n",
      "       'CCAA_DESTINO', 'PROVINCIA_DESTINO', 'TURISTAS', 'PERNOCTACIONES',\n",
      "       'ESTANCIA_MEDIA'],\n",
      "      dtype='object')\n",
      "COLUMNAS GASTO: Index(['Unnamed: 0', 'AÑO', 'MES', 'CCAA_DESTINO', 'TIPO_ORIGEN', 'GASTO',\n",
      "       'TRANSACCION'],\n",
      "      dtype='object')\n"
     ]
    }
   ],
   "source": [
    "# IMPRIMIR SOLUCIONES QUE SE QUIERAN VER EN PANTALLA\n",
    "\n",
    "print(\"COLUMNAS FRONTUR:\", df_frontur.columns)\n",
    "print(\"COLUMNAS NACIONAL:\", df_nacional.columns)\n",
    "print(\"COLUMNAS GASTO:\", df_gasto.columns)"
   ]
  },
  {
   "cell_type": "code",
   "execution_count": 51,
   "id": "731f25c7-de5a-4e76-90f6-d136b54ca712",
   "metadata": {},
   "outputs": [
    {
     "name": "stdout",
     "output_type": "stream",
     "text": [
      "PRIMERAS FILAS DE FRONTUR:\n",
      "   Unnamed: 0   AÑO  MES PAIS_RESIDENCIA TIPO_VISITANTE CCAA_DESTINO  \\\n",
      "0           0  2018    1        Alemania  Excursionista    Andalucía   \n",
      "1           1  2018    1        Alemania  Excursionista     Baleares   \n",
      "\n",
      "   VISITANTES  \n",
      "0         818  \n",
      "1        3694  \n",
      "PRIMERAS FILAS DE NACIONAL:\n",
      "   Unnamed: 0   AÑO  MES CCAA_ORIGEN PROVINCIA_ORIGEN CCAA_DESTINO  \\\n",
      "0           0  2019    7   Andalucía          Almería    Andalucía   \n",
      "1           1  2019    7   Andalucía          Almería    Andalucía   \n",
      "\n",
      "  PROVINCIA_DESTINO TURISTAS PERNOCTACIONES ESTANCIA_MEDIA  \n",
      "0             Cádiz   8910,0        33536,0            3,8  \n",
      "1           Córdoba   3468,0        11981,0            3,5  \n",
      "PRIMERAS FILAS DE GASTO:\n",
      "   Unnamed: 0   AÑO  MES CCAA_DESTINO    TIPO_ORIGEN        GASTO  TRANSACCION\n",
      "0           0  2019    1    Andalucía  Internacional  18481196,78       414192\n",
      "1           1  2019    1    Andalucía  Interregional  34039254,92       952493\n"
     ]
    }
   ],
   "source": [
    "print(\"PRIMERAS FILAS DE FRONTUR:\")\n",
    "print(df_frontur.head(2))\n",
    "\n",
    "print(\"PRIMERAS FILAS DE NACIONAL:\")\n",
    "print(df_nacional.head(2))\n",
    "\n",
    "print(\"PRIMERAS FILAS DE GASTO:\")\n",
    "print(df_gasto.head(2))"
   ]
  },
  {
   "cell_type": "code",
   "execution_count": 52,
   "id": "500e8733-814b-44ff-9ea0-f0822d4ae356",
   "metadata": {},
   "outputs": [
    {
     "name": "stdout",
     "output_type": "stream",
     "text": [
      "FILAS EN FRONTUR TRANSFORMADO: 155\n",
      "FILAS EN GASTO TRANSFORMADO: 133\n",
      "FILAS EN UNIÓN + GASTO: 94\n"
     ]
    }
   ],
   "source": [
    "print(\"FILAS EN FRONTUR TRANSFORMADO:\", len(df_frontur_transformado))\n",
    "print(\"FILAS EN GASTO TRANSFORMADO:\", len(df_gasto_transformado))\n",
    "print(\"FILAS EN UNIÓN + GASTO:\", len(df_union_internacional_gasto))"
   ]
  },
  {
   "cell_type": "code",
   "execution_count": 53,
   "id": "611326e4-6852-45ea-a787-d933fb779ab3",
   "metadata": {},
   "outputs": [
    {
     "name": "stdout",
     "output_type": "stream",
     "text": [
      "TURISMO INTERNACIONAL TRANSFORMADO:\n",
      "    Año       CCAA  Turistas_Internacionales\n",
      "0  2018  Andalucía                  14017705\n",
      "1  2018     Aragón                    868433\n",
      "TURISMO NACIONAL TRANSFORMADO:\n",
      "    Año       CCAA                                Turistas_Nacionales\n",
      "0  2019  Andalucía  8910,03468,049626,02801,09247,020363,06920,083...\n",
      "1  2019     Aragón  666,0515,0975,0513,0303,01139,0614,0478,01326,...\n",
      "GASTO TRANSFORMADO:\n",
      "    Año       CCAA                                              Gasto\n",
      "0  2019  Andalucía  18481196,7834039254,9233721507,9667760762,8818...\n",
      "1  2019     Aragón  503190,6810511516,071976147,6112487663,6852437...\n"
     ]
    }
   ],
   "source": [
    "print(\"TURISMO INTERNACIONAL TRANSFORMADO:\")\n",
    "print(df_frontur_transformado.head(2))\n",
    "\n",
    "print(\"TURISMO NACIONAL TRANSFORMADO:\")\n",
    "print(df_nacional_transformado.head(2))\n",
    "\n",
    "print(\"GASTO TRANSFORMADO:\")\n",
    "print(df_gasto_transformado.head(2))"
   ]
  },
  {
   "cell_type": "code",
   "execution_count": 56,
   "id": "d7f3a252-c9cf-4e50-9f48-6b093475dc4b",
   "metadata": {},
   "outputs": [
    {
     "name": "stdout",
     "output_type": "stream",
     "text": [
      "INTERNACIONAL + GASTO:\n",
      "    Año       CCAA  Turistas_Internacionales  \\\n",
      "0  2019  Andalucía                  14652617   \n",
      "1  2019     Aragón                    853190   \n",
      "\n",
      "                                               Gasto  \n",
      "0  18481196,7834039254,9233721507,9667760762,8818...  \n",
      "1  503190,6810511516,071976147,6112487663,6852437...  \n",
      "NACIONAL + GASTO:\n",
      "    Año       CCAA                                Turistas_Nacionales  \\\n",
      "0  2019  Andalucía  8910,03468,049626,02801,09247,020363,06920,083...   \n",
      "1  2019     Aragón  666,0515,0975,0513,0303,01139,0614,0478,01326,...   \n",
      "\n",
      "                                               Gasto  \n",
      "0  18481196,7834039254,9233721507,9667760762,8818...  \n",
      "1  503190,6810511516,071976147,6112487663,6852437...  \n"
     ]
    }
   ],
   "source": [
    "print(\"INTERNACIONAL + GASTO:\")\n",
    "print(df_union_internacional_gasto.head(2))\n",
    "\n",
    "print(\"NACIONAL + GASTO:\")\n",
    "print(df_union_nacional_gasto.head(2))"
   ]
  },
  {
   "cell_type": "code",
   "execution_count": null,
   "id": "5eda5f06-94b0-4766-9708-dfa91276c1f7",
   "metadata": {},
   "outputs": [],
   "source": []
  }
 ],
 "metadata": {
  "kernelspec": {
   "display_name": "Python [conda env:base] *",
   "language": "python",
   "name": "conda-base-py"
  },
  "language_info": {
   "codemirror_mode": {
    "name": "ipython",
    "version": 3
   },
   "file_extension": ".py",
   "mimetype": "text/x-python",
   "name": "python",
   "nbconvert_exporter": "python",
   "pygments_lexer": "ipython3",
   "version": "3.12.7"
  }
 },
 "nbformat": 4,
 "nbformat_minor": 5
}
