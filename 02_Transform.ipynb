{
 "cells": [
  {
   "cell_type": "code",
   "execution_count": 18,
   "id": "9ed34ae5-cddf-4b7f-9200-74e631d9f698",
   "metadata": {},
   "outputs": [],
   "source": [
    "import pandas as pd\n",
    "import os\n",
    "import numpy as np"
   ]
  },
  {
   "cell_type": "code",
   "execution_count": 17,
   "id": "b3430a8e-f24e-4f07-a7be-c412c5fa6c9e",
   "metadata": {},
   "outputs": [
    {
     "name": "stdout",
     "output_type": "stream",
     "text": [
      "\n",
      "EOAL_PAIS_DL loaded: 943 rows, 7 columns\n",
      "   Unnamed: 0   AÑO  MES       PAIS             LUGAR_RESIDENCIA  VIAJEROS  \\\n",
      "0           0  2022    1   Alemania  Residentes en el Extranjero      2892   \n",
      "1           1  2022    1    Austria  Residentes en el Extranjero         0   \n",
      "2           2  2022    1    Bélgica  Residentes en el Extranjero       717   \n",
      "3           3  2022    1  Dinamarca  Residentes en el Extranjero         0   \n",
      "4           4  2022    1     España         Residentes en España     39580   \n",
      "\n",
      "   PERNOCTACIONES  \n",
      "0            6133  \n",
      "1               0  \n",
      "2            1603  \n",
      "3               0  \n",
      "4           86870  \n",
      "\n",
      "CST_GASTO_CONSUMO_TURISTICO_DL loaded: 112 rows, 9 columns\n",
      "   Unnamed: 0   AÑO                                         PRODUCTO  \\\n",
      "0           0  2016  Agencias de viajes y otros servicios de reserva   \n",
      "1           1  2016                              Hoteles y similares   \n",
      "2           2  2016               Otros productos no característicos   \n",
      "3           3  2016            Productos característicos del turismo   \n",
      "4           4  2016                             Servicios culturales   \n",
      "\n",
      "   NUM_GASTO_INTERIOR  NUM_GASTO_INTERNO  NUM_GASTO_EMISOR  \\\n",
      "0              6910.6             5090.6            3509.2   \n",
      "1             23393.6             9216.4            4030.7   \n",
      "2             28999.0             8033.0            3929.3   \n",
      "3             86710.1            39006.0           15699.0   \n",
      "4              5383.0              812.3             202.7   \n",
      "\n",
      "   NUM_CONSUMO_TURISTICO_INTERIOR  NUM_CONSUMO_OTROS_COMPONENTES_TURISTICOS  \\\n",
      "0                          7021.3                                     110.7   \n",
      "1                         23467.8                                      74.2   \n",
      "2                         28999.0                                       0.0   \n",
      "3                        102669.9                                   15959.8   \n",
      "4                          5663.4                                     280.4   \n",
      "\n",
      "   NUM_GASTO_RECEPTOR  \n",
      "0              1819.9  \n",
      "1             14177.2  \n",
      "2             20966.0  \n",
      "3             47704.1  \n",
      "4              4570.7  \n",
      "\n",
      "EOTR_PAIS_DL loaded: 1157 rows, 7 columns\n",
      "   Unnamed: 0   AÑO  MES                       PAIS  \\\n",
      "0           0  2018    1                   Alemania   \n",
      "1           1  2018    1                    Bélgica   \n",
      "2           2  2018    1  Estados Unidos de América   \n",
      "3           3  2018    1                    Francia   \n",
      "4           4  2018    1                     Italia   \n",
      "\n",
      "              LUGAR_RESIDENCIA  VIAJEROS  PERNOCTACIONES  \n",
      "0  Residentes en el Extranjero      4293           28323  \n",
      "1  Residentes en el Extranjero       672            3780  \n",
      "2  Residentes en el Extranjero       442            1103  \n",
      "3  Residentes en el Extranjero      1767            5179  \n",
      "4  Residentes en el Extranjero       322             960  \n",
      "\n",
      "CONECTIVIDAD_AEREA_BUSQUEDAS_INICIO_VIAJE_DL loaded: 232893 rows, 10 columns\n",
      "   Unnamed: 0   AÑO  MES PAIS_ORIGEN    CIUDAD_DESTINO    TIPO_ORIGEN  \\\n",
      "0           0  2022    1  Afganistán         Barcelona  Internacional   \n",
      "1           1  2022    1  Afganistán            Madrid  Internacional   \n",
      "2           2  2022    1  Afganistán            Málaga  Internacional   \n",
      "3           3  2022    1  Afganistán           Sevilla  Internacional   \n",
      "4           4  2022    1     Albania  Alacant/Alicante  Internacional   \n",
      "\n",
      "   BUSQUEDAS ANTELACION ESTANCIA_MEDIA VARIACION_INTERANUAL_BUSQUEDAS  \n",
      "0         10       3,22           2,89                            0,0  \n",
      "1         13       1,45           12,0                            0,0  \n",
      "2          2        8,0            8,5                            0,0  \n",
      "3          1        6,0            3,0                            0,0  \n",
      "4         45       5,42          11,18                            0,0  \n",
      "\n",
      "TRANSPORTE_TERRESTRE_DL loaded: 356 rows, 4 columns\n",
      "    AÑO  MES                                    TIPO_TRANSPORTE  VIAJEROS\n",
      "0  2018    1                       Ferrocarril: Larga distancia   2396000\n",
      "1  2018    1                       Ferrocarril: Media distancia   2413000\n",
      "2  2018    1  Transporte interurbano regular por autobús: La...   1090000\n",
      "3  2018    1  Transporte interurbano regular por autobús: Me...  16166000\n",
      "4  2018    2                       Ferrocarril: Larga distancia   2460000\n",
      "\n",
      "EOAC_CATEGORIA_DL loaded: 267 rows, 15 columns\n",
      "   Unnamed: 0   AÑO  MES            CATEGORIA             LUGAR_RESIDENCIA  \\\n",
      "0           0  2018    1         2ª categoría  Residentes en el Extranjero   \n",
      "1           1  2018    1         3ª categoría                        Total   \n",
      "2           2  2018    1  Lujo y 1ª categoría         Residentes en España   \n",
      "3           3  2018    2         2ª categoría  Residentes en el Extranjero   \n",
      "4           4  2018    2         3ª categoría                        Total   \n",
      "\n",
      "   VIAJEROS  PERNOCTACIONES  ESTANCIA_MEDIA  ESTABLECIMIENTOS_ESTIMADOS  \\\n",
      "0    125198         1170353           29.76                         241   \n",
      "1     18076           80818           16.33                          57   \n",
      "2    103802          924694           27.03                         115   \n",
      "3    148234         1161370           26.35                         261   \n",
      "4     34234          105144           14.21                          63   \n",
      "\n",
      "   PARCELAS  PLAZAS_ESTIMADAS  GRADO_OCUPA_PARCELAS  \\\n",
      "0     41249            126627                 39.32   \n",
      "1      5016             14745                 30.37   \n",
      "2     34196            110882                 36.40   \n",
      "3     45530            140032                 41.07   \n",
      "4      6148             18099                 35.05   \n",
      "\n",
      "   GRADO_OCUPA_PARCELAS_FIN_SEMANA  NUM_PARCELAS_OCUPADAS  PERSONAL_EMPLEADO  \n",
      "0                            39.77                 502739               1299  \n",
      "1                            32.18                  47220                176  \n",
      "2                            37.68                 385914               1341  \n",
      "3                            41.68                 523536               1439  \n",
      "4                            37.88                  60334                196  \n",
      "\n",
      "ESCUCHA_ACTIVA_DL loaded: 35 rows, 4 columns\n",
      "   Unnamed: 0   AÑO  MES  MENCIONES\n",
      "0           0  2021    8      18136\n",
      "1           1  2021    9      12554\n",
      "2           2  2021   10      40451\n",
      "3           3  2021   11      46045\n",
      "4           4  2021   12      39554\n",
      "\n",
      "ACTIVIDADES_OCIO_DL loaded: 17212 rows, 11 columns\n",
      "    AÑO  MES      PRODUCTO                CATEGORIA        CCAA    PROVINCIA  \\\n",
      "0  2023    7  Espectaculos  Cultura, teatro y danza  País Vasco  Araba/Álava   \n",
      "1  2023    7  Espectaculos  Cultura, teatro y danza  País Vasco  Araba/Álava   \n",
      "2  2023    7  Espectaculos                   Música  País Vasco  Araba/Álava   \n",
      "3  2023    7   Actividades   Actividades infantiles  País Vasco  Araba/Álava   \n",
      "4  2023    7  Espectaculos  Cultura, teatro y danza  País Vasco  Araba/Álava   \n",
      "\n",
      "   ENTRADAS  VISITAS_PAGINAS  GASTO_TOTAL  PRECIO_MEDIO_ENTRADA  TRANSACCIONES  \n",
      "0        35              135       420.00                 12.00             12  \n",
      "1         2                8         6.46                  3.23              1  \n",
      "2       310             4171      3357.30                 10.83            153  \n",
      "3        39              151       207.87                  5.33             17  \n",
      "4       290             1123      2726.00                  9.40            124  \n",
      "\n",
      "FRONTUR_DL loaded: 29945 rows, 6 columns\n",
      "    AÑO  MES PAIS_RESIDENCIA TIPO_VISITANTE CCAA_DESTINO  VISITANTES\n",
      "0  2018    1        Alemania  Excursionista    Andalucía         818\n",
      "1  2018    1        Alemania  Excursionista    Baleares         3694\n",
      "2  2018    1        Alemania  Excursionista    Canarias        13587\n",
      "3  2018    1        Alemania  Excursionista   Cataluña          4623\n",
      "4  2018    1        Alemania  Excursionista    Galicia            14\n",
      "\n",
      "EGATUR_DL loaded: 29414 rows, 7 columns\n",
      "    AÑO  MES PAIS_RESIDENCIA                            TIPO_VISITANTE  \\\n",
      "0  2018    1        Alemania  Excursionista no residente (no tránsito)   \n",
      "1  2018    1        Alemania  Excursionista no residente (no tránsito)   \n",
      "2  2018    1        Alemania  Excursionista no residente (no tránsito)   \n",
      "3  2018    1        Alemania  Excursionista no residente (no tránsito)   \n",
      "4  2018    1        Alemania    Excursionista no residente en tránsito   \n",
      "\n",
      "    CCAA_DESTINO  PERNOCTACIONES  GASTO_TOTAL  \n",
      "0      Andalucía               0    306434.84  \n",
      "1       Canarias               0  14063908.66  \n",
      "2       Cataluña               0    549930.72  \n",
      "3  Illes Balears               0    956234.72  \n",
      "4       Transito               0   3847358.72  \n"
     ]
    }
   ],
   "source": [
    "folder = \"./data\"\n",
    "\n",
    "files = os.listdir(folder)\n",
    "\n",
    "datasets = {file_name.replace(\".xlsx\", \"\"): pd.read_excel(os.path.join(folder, file_name)) for file_name in files}\n",
    "\n",
    "for name, df in datasets.items():\n",
    "    print(f\"\\n{name} loaded: {df.shape[0]} rows, {df.shape[1]} columns\")\n",
    "    print(df.head())"
   ]
  },
  {
   "cell_type": "code",
   "execution_count": 8,
   "id": "1d850c4f-4553-4d1d-91c1-1edee7757870",
   "metadata": {},
   "outputs": [
    {
     "data": {
      "text/plain": [
       "['Excursionista', 'Turista']"
      ]
     },
     "execution_count": 8,
     "metadata": {},
     "output_type": "execute_result"
    }
   ],
   "source": [
    "datasets[\"FRONTUR_DL\"][\"TIPO_VISITANTE\"].unique().tolist()"
   ]
  },
  {
   "cell_type": "code",
   "execution_count": 9,
   "id": "3ee2e91b-a968-4a8e-82be-c58478643493",
   "metadata": {},
   "outputs": [
    {
     "data": {
      "text/plain": [
       "AÑO                 [2018, 2019, 2020, 2021, 2022, 2023, 2024, 2025]\n",
       "MES                          [1, 2, 3, 4, 5, 6, 7, 8, 9, 10, 11, 12]\n",
       "PAIS_RESIDENCIA    [Alemania, Bélgica, EEUU, Francia, Irlanda, It...\n",
       "TIPO_VISITANTE     [Excursionista no residente (no tránsito), Exc...\n",
       "CCAA_DESTINO       [Andalucía, Canarias, Cataluña, Illes Balears,...\n",
       "PERNOCTACIONES     [0, 876, 59, 1826, 36, 220, 22, 645, 13, 576, ...\n",
       "GASTO_TOTAL        [306434.84, 14063908.66, 549930.72, 956234.72,...\n",
       "dtype: object"
      ]
     },
     "execution_count": 9,
     "metadata": {},
     "output_type": "execute_result"
    }
   ],
   "source": [
    "datasets[\"EGATUR_DL\"].apply(lambda col: col.unique())"
   ]
  },
  {
   "cell_type": "code",
   "execution_count": 10,
   "id": "0294df04-928f-4b46-b272-d3ce5998dca2",
   "metadata": {},
   "outputs": [
    {
     "data": {
      "text/plain": [
       "['Alemania',\n",
       " 'Bélgica',\n",
       " 'EEUU',\n",
       " 'Francia',\n",
       " 'Irlanda',\n",
       " 'Italia',\n",
       " 'Países Bajos',\n",
       " 'Países Nórdicos (Dinamarca',\n",
       " 'Portugal',\n",
       " 'Reino Unido',\n",
       " 'Resto de América',\n",
       " 'Resto de Europa',\n",
       " 'Resto del mundo',\n",
       " 'Rusia',\n",
       " 'Suiza']"
      ]
     },
     "execution_count": 10,
     "metadata": {},
     "output_type": "execute_result"
    }
   ],
   "source": [
    "datasets[\"EGATUR_DL\"][\"PAIS_RESIDENCIA\"].unique().tolist()"
   ]
  },
  {
   "cell_type": "code",
   "execution_count": 15,
   "id": "0026c7d2-dd8a-434d-89d8-85c42351fc26",
   "metadata": {},
   "outputs": [
    {
     "data": {
      "text/plain": [
       "['Unnamed: 0',\n",
       " 'AÑO',\n",
       " 'PRODUCTO',\n",
       " 'NUM_GASTO_INTERIOR',\n",
       " 'NUM_GASTO_INTERNO',\n",
       " 'NUM_GASTO_EMISOR',\n",
       " 'NUM_CONSUMO_TURISTICO_INTERIOR',\n",
       " 'NUM_CONSUMO_OTROS_COMPONENTES_TURISTICOS',\n",
       " 'NUM_GASTO_RECEPTOR']"
      ]
     },
     "execution_count": 15,
     "metadata": {},
     "output_type": "execute_result"
    }
   ],
   "source": [
    "datasets[\"CST_GASTO_CONSUMO_TURISTICO_DL\"].columns.tolist()"
   ]
  },
  {
   "cell_type": "code",
   "execution_count": 16,
   "id": "5ce125bb-4cb1-40f0-890c-4b65a6730415",
   "metadata": {},
   "outputs": [
    {
     "data": {
      "text/html": [
       "<div>\n",
       "<style scoped>\n",
       "    .dataframe tbody tr th:only-of-type {\n",
       "        vertical-align: middle;\n",
       "    }\n",
       "\n",
       "    .dataframe tbody tr th {\n",
       "        vertical-align: top;\n",
       "    }\n",
       "\n",
       "    .dataframe thead th {\n",
       "        text-align: right;\n",
       "    }\n",
       "</style>\n",
       "<table border=\"1\" class=\"dataframe\">\n",
       "  <thead>\n",
       "    <tr style=\"text-align: right;\">\n",
       "      <th></th>\n",
       "      <th>Unnamed: 0</th>\n",
       "      <th>AÑO</th>\n",
       "      <th>PRODUCTO</th>\n",
       "      <th>NUM_GASTO_INTERIOR</th>\n",
       "      <th>NUM_GASTO_INTERNO</th>\n",
       "      <th>NUM_GASTO_EMISOR</th>\n",
       "      <th>NUM_CONSUMO_TURISTICO_INTERIOR</th>\n",
       "      <th>NUM_CONSUMO_OTROS_COMPONENTES_TURISTICOS</th>\n",
       "      <th>NUM_GASTO_RECEPTOR</th>\n",
       "    </tr>\n",
       "  </thead>\n",
       "  <tbody>\n",
       "    <tr>\n",
       "      <th>0</th>\n",
       "      <td>0</td>\n",
       "      <td>2016</td>\n",
       "      <td>Agencias de viajes y otros servicios de reserva</td>\n",
       "      <td>6910.6</td>\n",
       "      <td>5090.6</td>\n",
       "      <td>3509.2</td>\n",
       "      <td>7021.3</td>\n",
       "      <td>110.7</td>\n",
       "      <td>1819.9</td>\n",
       "    </tr>\n",
       "    <tr>\n",
       "      <th>1</th>\n",
       "      <td>1</td>\n",
       "      <td>2016</td>\n",
       "      <td>Hoteles y similares</td>\n",
       "      <td>23393.6</td>\n",
       "      <td>9216.4</td>\n",
       "      <td>4030.7</td>\n",
       "      <td>23467.8</td>\n",
       "      <td>74.2</td>\n",
       "      <td>14177.2</td>\n",
       "    </tr>\n",
       "    <tr>\n",
       "      <th>2</th>\n",
       "      <td>2</td>\n",
       "      <td>2016</td>\n",
       "      <td>Otros productos no característicos</td>\n",
       "      <td>28999.0</td>\n",
       "      <td>8033.0</td>\n",
       "      <td>3929.3</td>\n",
       "      <td>28999.0</td>\n",
       "      <td>0.0</td>\n",
       "      <td>20966.0</td>\n",
       "    </tr>\n",
       "    <tr>\n",
       "      <th>3</th>\n",
       "      <td>3</td>\n",
       "      <td>2016</td>\n",
       "      <td>Productos característicos del turismo</td>\n",
       "      <td>86710.1</td>\n",
       "      <td>39006.0</td>\n",
       "      <td>15699.0</td>\n",
       "      <td>102669.9</td>\n",
       "      <td>15959.8</td>\n",
       "      <td>47704.1</td>\n",
       "    </tr>\n",
       "    <tr>\n",
       "      <th>4</th>\n",
       "      <td>4</td>\n",
       "      <td>2016</td>\n",
       "      <td>Servicios culturales</td>\n",
       "      <td>5383.0</td>\n",
       "      <td>812.3</td>\n",
       "      <td>202.7</td>\n",
       "      <td>5663.4</td>\n",
       "      <td>280.4</td>\n",
       "      <td>4570.7</td>\n",
       "    </tr>\n",
       "  </tbody>\n",
       "</table>\n",
       "</div>"
      ],
      "text/plain": [
       "   Unnamed: 0   AÑO                                         PRODUCTO  \\\n",
       "0           0  2016  Agencias de viajes y otros servicios de reserva   \n",
       "1           1  2016                              Hoteles y similares   \n",
       "2           2  2016               Otros productos no característicos   \n",
       "3           3  2016            Productos característicos del turismo   \n",
       "4           4  2016                             Servicios culturales   \n",
       "\n",
       "   NUM_GASTO_INTERIOR  NUM_GASTO_INTERNO  NUM_GASTO_EMISOR  \\\n",
       "0              6910.6             5090.6            3509.2   \n",
       "1             23393.6             9216.4            4030.7   \n",
       "2             28999.0             8033.0            3929.3   \n",
       "3             86710.1            39006.0           15699.0   \n",
       "4              5383.0              812.3             202.7   \n",
       "\n",
       "   NUM_CONSUMO_TURISTICO_INTERIOR  NUM_CONSUMO_OTROS_COMPONENTES_TURISTICOS  \\\n",
       "0                          7021.3                                     110.7   \n",
       "1                         23467.8                                      74.2   \n",
       "2                         28999.0                                       0.0   \n",
       "3                        102669.9                                   15959.8   \n",
       "4                          5663.4                                     280.4   \n",
       "\n",
       "   NUM_GASTO_RECEPTOR  \n",
       "0              1819.9  \n",
       "1             14177.2  \n",
       "2             20966.0  \n",
       "3             47704.1  \n",
       "4              4570.7  "
      ]
     },
     "execution_count": 16,
     "metadata": {},
     "output_type": "execute_result"
    }
   ],
   "source": [
    "datasets[\"CST_GASTO_CONSUMO_TURISTICO_DL\"].head()"
   ]
  },
  {
   "cell_type": "code",
   "execution_count": 13,
   "id": "08dfcdd7-9ee7-4266-9b79-543cfcfaecd9",
   "metadata": {},
   "outputs": [
    {
     "data": {
      "text/plain": [
       "['2ª categoría', '3ª categoría', 'Lujo y 1ª categoría']"
      ]
     },
     "execution_count": 13,
     "metadata": {},
     "output_type": "execute_result"
    }
   ],
   "source": [
    "datasets[\"EOAC_CATEGORIA_DL\"][\"CATEGORIA\"].unique().tolist()"
   ]
  },
  {
   "cell_type": "code",
   "execution_count": null,
   "id": "8a458da3-8868-462b-a285-bb3f28c49c01",
   "metadata": {},
   "outputs": [],
   "source": []
  }
 ],
 "metadata": {
  "kernelspec": {
   "display_name": "Python 3 (ipykernel)",
   "language": "python",
   "name": "python3"
  },
  "language_info": {
   "codemirror_mode": {
    "name": "ipython",
    "version": 3
   },
   "file_extension": ".py",
   "mimetype": "text/x-python",
   "name": "python",
   "nbconvert_exporter": "python",
   "pygments_lexer": "ipython3",
   "version": "3.13.5"
  }
 },
 "nbformat": 4,
 "nbformat_minor": 5
}
