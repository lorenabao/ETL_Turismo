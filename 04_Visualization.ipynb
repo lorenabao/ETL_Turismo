{
 "cells": [
  {
   "cell_type": "markdown",
   "id": "11920d90-7605-4cbc-bccc-e48d94a9b6fb",
   "metadata": {},
   "source": [
    "# Propuesta de visualizaciones:\n",
    "\n",
    "1. [Evolución de duración media de viaje (2018–2025)][1]\n",
    "2. Distribución de motivos de viaje\n",
    "3. Mapa de calor: motivos de viaje por comunidad (rural vs ciudad)\n",
    "4. Comparativa gasto medio turista \"nuevo modelo de viaje\" vs general (por ejemplo, nómadas digitales vs familias)\n",
    "5. Línea temporal: turismo experiencial vs tradicional\n",
    "\n",
    "[1] Ver si hay datos disponibles e 2025 o tan solo hasta 2024."
   ]
  },
  {
   "cell_type": "code",
   "execution_count": null,
   "id": "c5b512ac-733c-44c4-91b1-b2c4d6c8a4e4",
   "metadata": {},
   "outputs": [],
   "source": []
  }
 ],
 "metadata": {
  "kernelspec": {
   "display_name": "Python 3 (ipykernel)",
   "language": "python",
   "name": "python3"
  },
  "language_info": {
   "codemirror_mode": {
    "name": "ipython",
    "version": 3
   },
   "file_extension": ".py",
   "mimetype": "text/x-python",
   "name": "python",
   "nbconvert_exporter": "python",
   "pygments_lexer": "ipython3",
   "version": "3.13.5"
  }
 },
 "nbformat": 4,
 "nbformat_minor": 5
}
