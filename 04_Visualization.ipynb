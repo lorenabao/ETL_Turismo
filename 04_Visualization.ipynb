{
 "cells": [
  {
   "cell_type": "markdown",
   "id": "11920d90-7605-4cbc-bccc-e48d94a9b6fb",
   "metadata": {},
   "source": [
    "# Propuesta de visualizaciones:\n",
    "\n",
    "1. [Evolución de duración media de viaje (2018–2025)][1]\n",
    "2. Distribución de motivos de viaje\n",
    "3. Mapa de calor: motivos de viaje por comunidad (rural vs ciudad)\n",
    "4. Comparativa gasto medio turista \"nuevo modelo de viaje\" vs general (por ejemplo, nómadas digitales vs familias)\n",
    "5. Línea temporal: turismo experiencial vs tradicional\n",
    "\n",
    "[1] Ver si hay datos disponibles e 2025 o tan solo hasta 2024."
   ]
  },
  {
   "cell_type": "code",
   "execution_count": 1,
   "id": "c5b512ac-733c-44c4-91b1-b2c4d6c8a4e4",
   "metadata": {},
   "outputs": [],
   "source": [
    "import pandas as pd\n",
    "import seaborn as sns\n",
    "import matplotlib.pyplot as plt"
   ]
  },
  {
   "cell_type": "code",
   "execution_count": null,
   "id": "3dbe8d2f-b0bc-4d58-b9e2-0cbd17f6ff2a",
   "metadata": {},
   "outputs": [],
   "source": [
    "# Evolución tipo de visitantes (excursionistas vs turistas) por CCAA"
   ]
  },
  {
   "cell_type": "code",
   "execution_count": 2,
   "id": "cfde1fb1-4029-437f-828f-17c3b6e75e48",
   "metadata": {},
   "outputs": [
    {
     "ename": "NameError",
     "evalue": "name 'visitantes_ccaa_pivot' is not defined",
     "output_type": "error",
     "traceback": [
      "\u001b[0;31m---------------------------------------------------------------------------\u001b[0m",
      "\u001b[0;31mNameError\u001b[0m                                 Traceback (most recent call last)",
      "Cell \u001b[0;32mIn[2], line 1\u001b[0m\n\u001b[0;32m----> 1\u001b[0m df_long \u001b[38;5;241m=\u001b[39m visitantes_ccaa_pivot\u001b[38;5;241m.\u001b[39mmelt(\n\u001b[1;32m      2\u001b[0m     id_vars\u001b[38;5;241m=\u001b[39m[\u001b[38;5;124m\"\u001b[39m\u001b[38;5;124mAÑO\u001b[39m\u001b[38;5;124m\"\u001b[39m, \u001b[38;5;124m\"\u001b[39m\u001b[38;5;124mCCAA_DESTINO\u001b[39m\u001b[38;5;124m\"\u001b[39m],\n\u001b[1;32m      3\u001b[0m     value_vars\u001b[38;5;241m=\u001b[39m[\u001b[38;5;124m\"\u001b[39m\u001b[38;5;124mTurista\u001b[39m\u001b[38;5;124m\"\u001b[39m, \u001b[38;5;124m\"\u001b[39m\u001b[38;5;124mExcursionista\u001b[39m\u001b[38;5;124m\"\u001b[39m],\n\u001b[1;32m      4\u001b[0m     var_name\u001b[38;5;241m=\u001b[39m\u001b[38;5;124m\"\u001b[39m\u001b[38;5;124mTIPO_VISITANTE\u001b[39m\u001b[38;5;124m\"\u001b[39m,\n\u001b[1;32m      5\u001b[0m     value_name\u001b[38;5;241m=\u001b[39m\u001b[38;5;124m\"\u001b[39m\u001b[38;5;124mVISITANTES\u001b[39m\u001b[38;5;124m\"\u001b[39m\n\u001b[1;32m      6\u001b[0m )\n",
      "\u001b[0;31mNameError\u001b[0m: name 'visitantes_ccaa_pivot' is not defined"
     ]
    }
   ],
   "source": [
    "df_long = visitantes_ccaa_pivot.melt(\n",
    "    id_vars=[\"AÑO\", \"CCAA_DESTINO\"],\n",
    "    value_vars=[\"Turista\", \"Excursionista\"],\n",
    "    var_name=\"TIPO_VISITANTE\",\n",
    "    value_name=\"VISITANTES\"\n",
    ")"
   ]
  },
  {
   "cell_type": "code",
   "execution_count": null,
   "id": "be8125ed-b717-4968-8e2d-40cc08892097",
   "metadata": {},
   "outputs": [],
   "source": []
  }
 ],
 "metadata": {
  "kernelspec": {
   "display_name": "Python 3 (ipykernel)",
   "language": "python",
   "name": "python3"
  },
  "language_info": {
   "codemirror_mode": {
    "name": "ipython",
    "version": 3
   },
   "file_extension": ".py",
   "mimetype": "text/x-python",
   "name": "python",
   "nbconvert_exporter": "python",
   "pygments_lexer": "ipython3",
   "version": "3.13.5"
  }
 },
 "nbformat": 4,
 "nbformat_minor": 5
}
