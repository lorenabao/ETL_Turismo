{
 "cells": [
  {
   "cell_type": "markdown",
   "id": "11920d90-7605-4cbc-bccc-e48d94a9b6fb",
   "metadata": {},
   "source": [
    "# Propuesta de visualizaciones:\n",
    "\n",
    "1. [Evolución de duración media de viaje (2018–2025)][1]\n",
    "2. Distribución de motivos de viaje\n",
    "3. Mapa de calor: motivos de viaje por comunidad (rural vs ciudad)\n",
    "4. Comparativa gasto medio turista \"nuevo modelo de viaje\" vs general (por ejemplo, nómadas digitales vs familias)\n",
    "5. Línea temporal: turismo experiencial vs tradicional\n",
    "\n",
    "[1] Ver si hay datos disponibles e 2025 o tan solo hasta 2024."
   ]
  },
  {
   "cell_type": "code",
   "execution_count": null,
   "id": "c5b512ac-733c-44c4-91b1-b2c4d6c8a4e4",
   "metadata": {},
   "outputs": [],
   "source": []
  },
  {
   "cell_type": "code",
   "execution_count": null,
   "id": "957e01c9-af37-4615-b035-7e5ff9418cac",
   "metadata": {},
   "outputs": [],
   "source": []
  },
  {
   "cell_type": "code",
   "execution_count": null,
   "id": "d8b629dc-55c4-4a70-9fac-b729bd5a1f8a",
   "metadata": {},
   "outputs": [],
   "source": []
  },
  {
   "cell_type": "code",
   "execution_count": null,
   "id": "b7692190-ca7a-4f9b-9290-e7fc9d56f4e0",
   "metadata": {},
   "outputs": [],
   "source": []
  },
  {
   "cell_type": "code",
   "execution_count": null,
   "id": "a80181fb-e37f-49f9-a251-99eaf002bc64",
   "metadata": {},
   "outputs": [],
   "source": []
  },
  {
   "cell_type": "code",
   "execution_count": null,
   "id": "cd285c45-916f-4657-80cf-80b71f120e35",
   "metadata": {},
   "outputs": [],
   "source": []
  }
 ],
 "metadata": {
  "kernelspec": {
   "display_name": "Python [conda env:base] *",
   "language": "python",
   "name": "conda-base-py"
  },
  "language_info": {
   "codemirror_mode": {
    "name": "ipython",
    "version": 3
   },
   "file_extension": ".py",
   "mimetype": "text/x-python",
   "name": "python",
   "nbconvert_exporter": "python",
   "pygments_lexer": "ipython3",
   "version": "3.12.7"
  }
 },
 "nbformat": 4,
 "nbformat_minor": 5
}
